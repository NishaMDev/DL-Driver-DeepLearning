{
  "nbformat": 4,
  "nbformat_minor": 0,
  "metadata": {
    "colab": {
      "name": "DL_Project_ Age & Gender Classifier .ipynb",
      "provenance": [],
      "collapsed_sections": [],
      "machine_shape": "hm"
    },
    "kernelspec": {
      "name": "python3",
      "display_name": "Python 3"
    },
    "accelerator": "GPU"
  },
  "cells": [
    {
      "cell_type": "markdown",
      "metadata": {
        "id": "IH-jxeUtAQx-"
      },
      "source": [
        "# Age & Gender Classifier using Deep CNNs  - \n",
        "\n",
        "**Dataset : UTKFace**\n",
        "\n",
        "UTKFace dataset is a large-scale face dataset with long age span (range from 0 to 116 years old). The dataset consists of over 20,000 face images with annotations of age, gender, and ethnicity. The images cover large variation in pose, facial expression, illumination, occlusion, resolution, etc.\n",
        "\n",
        "In this notebook, I have used the `aligned and cropped` faces available to train my models. Needless to say, any face input for testing must be cropped and aligned vertically to large extent"
      ]
    },
    {
      "cell_type": "code",
      "metadata": {
        "id": "Bwb7ZaKaB75a",
        "colab": {
          "base_uri": "https://localhost:8080/"
        },
        "outputId": "1cb381de-de54-47ae-c802-6d6e7b4c622c"
      },
      "source": [
        "# Mounting the drive so that dataset can be loaded\n",
        "\n",
        "from google.colab import drive\n",
        "drive.mount('/content/drive')"
      ],
      "execution_count": null,
      "outputs": [
        {
          "output_type": "stream",
          "name": "stdout",
          "text": [
            "Drive already mounted at /content/drive; to attempt to forcibly remount, call drive.mount(\"/content/drive\", force_remount=True).\n"
          ]
        }
      ]
    },
    {
      "cell_type": "code",
      "metadata": {
        "id": "g8n273iCB_MG"
      },
      "source": [
        "# Essential libraries\n",
        "import numpy as np \n",
        "import pandas as pd\n",
        "import os\n",
        "import glob\n",
        "import pandas as pd\n",
        "import matplotlib.pyplot as plt\n",
        "import seaborn as sns\n",
        "import scipy.io\n",
        "import pandas as pd\n",
        "import numpy as np\n",
        "import matplotlib.pyplot as plt\n",
        "from keras import applications,activations\n",
        "from keras.preprocessing.image import ImageDataGenerator,load_img,img_to_array\n",
        "from keras import optimizers,utils\n",
        "from keras.models import Sequential, Model \n",
        "from keras.layers import Dropout, Flatten, Dense, GlobalAveragePooling2D,BatchNormalization,ZeroPadding2D, Input\n",
        "from keras.layers import Conv2D, Activation,MaxPooling2D\n",
        "from keras import backend as k \n",
        "from keras.callbacks import ModelCheckpoint, LearningRateScheduler, TensorBoard, EarlyStopping"
      ],
      "execution_count": null,
      "outputs": []
    },
    {
      "cell_type": "code",
      "metadata": {
        "id": "RZbxDjTNCFGo"
      },
      "source": [
        "dataset_folder_name = '/content/drive/MyDrive/Age_Geneder_UTKDataSet/UTKFace'\n",
        "TRAIN_TEST_SPLIT = 0.8\n",
        "IM_WIDTH = IM_HEIGHT = 198\n",
        "\n",
        "dataset_dict = {\n",
        "    'race_id': {\n",
        "        0: 'white', \n",
        "        1: 'black', \n",
        "        2: 'asian', \n",
        "        3: 'indian', \n",
        "        4: 'others'\n",
        "    },\n",
        "    'gender_id': {\n",
        "        0: 'male',\n",
        "        1: 'female'\n",
        "    }\n",
        "}\n",
        "\n",
        "dataset_dict['gender_alias'] = dict((g, i) for i, g in dataset_dict['gender_id'].items())    # (Gender: id)\n",
        "dataset_dict['race_alias'] = dict((r, i) for i, r in dataset_dict['race_id'].items())        # (Race: id)"
      ],
      "execution_count": null,
      "outputs": []
    },
    {
      "cell_type": "code",
      "metadata": {
        "id": "kXkn8umRCPuM"
      },
      "source": [
        "# Let's also define a function to help us on extracting the data from our dataset. This function will be\n",
        "# used to iterate over each file of the UTK dataset and return a Pandas Dataframe containing all the\n",
        "# fields (age, gender and sex) of our records.\n",
        "\n",
        "def parse_dataset(dataset_path, ext='jpg'):\n",
        "    \"\"\"\n",
        "    Used to extract information about our dataset. It does iterate over all images and return a DataFrame\n",
        "     with the data (age, gender and sex) of all files.\n",
        "    \"\"\"\n",
        "    def parse_info_from_file(path):\n",
        "        \"\"\"\n",
        "        Parse information from a single file\n",
        "        \"\"\"\n",
        "        try:\n",
        "            filename = os.path.split(path)[1]\n",
        "            filename = os.path.splitext(filename)[0]\n",
        "            age, gender, race, _ = filename.split('_')\n",
        "\n",
        "            return int(age), dataset_dict['gender_id'][int(gender)], dataset_dict['race_id'][int(race)]\n",
        "        except Exception as ex:\n",
        "            return None, None, None\n",
        "        \n",
        "    files = glob.glob(os.path.join(dataset_path, \"*.%s\" % ext))\n",
        "    \n",
        "    records = []\n",
        "    for file in files:\n",
        "        info = parse_info_from_file(file)\n",
        "        records.append(info)\n",
        "        \n",
        "    df = pd.DataFrame(records)\n",
        "    df['file'] = files\n",
        "    df.columns = ['age', 'gender', 'race', 'file']\n",
        "    \n",
        "   \n",
        "    df = df.dropna()\n",
        "    \n",
        "    return df"
      ],
      "execution_count": null,
      "outputs": []
    },
    {
      "cell_type": "code",
      "metadata": {
        "id": "ybscrdgBCWxr",
        "colab": {
          "base_uri": "https://localhost:8080/",
          "height": 206
        },
        "outputId": "8121def2-856f-4d89-e73c-0610a6ee1a67"
      },
      "source": [
        "df = parse_dataset(dataset_folder_name)\n",
        "df.head()\n",
        "\n",
        "# Now we have a pandas dataframe with us. This can be dealt with quite easily. Like, we simply now need \n",
        "# to OHE gender, race and feed it into model. Using Pandas dataframe also allows me to manipulate and \n",
        "# visualize data by plotting graphs."
      ],
      "execution_count": null,
      "outputs": [
        {
          "output_type": "execute_result",
          "data": {
            "text/plain": [
              "    age  gender    race                                               file\n",
              "0  23.0  female  indian  /content/drive/MyDrive/Age_Geneder_UTKDataSet/...\n",
              "1  23.0  female  indian  /content/drive/MyDrive/Age_Geneder_UTKDataSet/...\n",
              "2  23.0  female  indian  /content/drive/MyDrive/Age_Geneder_UTKDataSet/...\n",
              "3  23.0  female  indian  /content/drive/MyDrive/Age_Geneder_UTKDataSet/...\n",
              "4  24.0    male   white  /content/drive/MyDrive/Age_Geneder_UTKDataSet/..."
            ],
            "text/html": [
              "\n",
              "  <div id=\"df-19a31e6e-a752-4377-9827-7c780b62abbb\">\n",
              "    <div class=\"colab-df-container\">\n",
              "      <div>\n",
              "<style scoped>\n",
              "    .dataframe tbody tr th:only-of-type {\n",
              "        vertical-align: middle;\n",
              "    }\n",
              "\n",
              "    .dataframe tbody tr th {\n",
              "        vertical-align: top;\n",
              "    }\n",
              "\n",
              "    .dataframe thead th {\n",
              "        text-align: right;\n",
              "    }\n",
              "</style>\n",
              "<table border=\"1\" class=\"dataframe\">\n",
              "  <thead>\n",
              "    <tr style=\"text-align: right;\">\n",
              "      <th></th>\n",
              "      <th>age</th>\n",
              "      <th>gender</th>\n",
              "      <th>race</th>\n",
              "      <th>file</th>\n",
              "    </tr>\n",
              "  </thead>\n",
              "  <tbody>\n",
              "    <tr>\n",
              "      <th>0</th>\n",
              "      <td>23.0</td>\n",
              "      <td>female</td>\n",
              "      <td>indian</td>\n",
              "      <td>/content/drive/MyDrive/Age_Geneder_UTKDataSet/...</td>\n",
              "    </tr>\n",
              "    <tr>\n",
              "      <th>1</th>\n",
              "      <td>23.0</td>\n",
              "      <td>female</td>\n",
              "      <td>indian</td>\n",
              "      <td>/content/drive/MyDrive/Age_Geneder_UTKDataSet/...</td>\n",
              "    </tr>\n",
              "    <tr>\n",
              "      <th>2</th>\n",
              "      <td>23.0</td>\n",
              "      <td>female</td>\n",
              "      <td>indian</td>\n",
              "      <td>/content/drive/MyDrive/Age_Geneder_UTKDataSet/...</td>\n",
              "    </tr>\n",
              "    <tr>\n",
              "      <th>3</th>\n",
              "      <td>23.0</td>\n",
              "      <td>female</td>\n",
              "      <td>indian</td>\n",
              "      <td>/content/drive/MyDrive/Age_Geneder_UTKDataSet/...</td>\n",
              "    </tr>\n",
              "    <tr>\n",
              "      <th>4</th>\n",
              "      <td>24.0</td>\n",
              "      <td>male</td>\n",
              "      <td>white</td>\n",
              "      <td>/content/drive/MyDrive/Age_Geneder_UTKDataSet/...</td>\n",
              "    </tr>\n",
              "  </tbody>\n",
              "</table>\n",
              "</div>\n",
              "      <button class=\"colab-df-convert\" onclick=\"convertToInteractive('df-19a31e6e-a752-4377-9827-7c780b62abbb')\"\n",
              "              title=\"Convert this dataframe to an interactive table.\"\n",
              "              style=\"display:none;\">\n",
              "        \n",
              "  <svg xmlns=\"http://www.w3.org/2000/svg\" height=\"24px\"viewBox=\"0 0 24 24\"\n",
              "       width=\"24px\">\n",
              "    <path d=\"M0 0h24v24H0V0z\" fill=\"none\"/>\n",
              "    <path d=\"M18.56 5.44l.94 2.06.94-2.06 2.06-.94-2.06-.94-.94-2.06-.94 2.06-2.06.94zm-11 1L8.5 8.5l.94-2.06 2.06-.94-2.06-.94L8.5 2.5l-.94 2.06-2.06.94zm10 10l.94 2.06.94-2.06 2.06-.94-2.06-.94-.94-2.06-.94 2.06-2.06.94z\"/><path d=\"M17.41 7.96l-1.37-1.37c-.4-.4-.92-.59-1.43-.59-.52 0-1.04.2-1.43.59L10.3 9.45l-7.72 7.72c-.78.78-.78 2.05 0 2.83L4 21.41c.39.39.9.59 1.41.59.51 0 1.02-.2 1.41-.59l7.78-7.78 2.81-2.81c.8-.78.8-2.07 0-2.86zM5.41 20L4 18.59l7.72-7.72 1.47 1.35L5.41 20z\"/>\n",
              "  </svg>\n",
              "      </button>\n",
              "      \n",
              "  <style>\n",
              "    .colab-df-container {\n",
              "      display:flex;\n",
              "      flex-wrap:wrap;\n",
              "      gap: 12px;\n",
              "    }\n",
              "\n",
              "    .colab-df-convert {\n",
              "      background-color: #E8F0FE;\n",
              "      border: none;\n",
              "      border-radius: 50%;\n",
              "      cursor: pointer;\n",
              "      display: none;\n",
              "      fill: #1967D2;\n",
              "      height: 32px;\n",
              "      padding: 0 0 0 0;\n",
              "      width: 32px;\n",
              "    }\n",
              "\n",
              "    .colab-df-convert:hover {\n",
              "      background-color: #E2EBFA;\n",
              "      box-shadow: 0px 1px 2px rgba(60, 64, 67, 0.3), 0px 1px 3px 1px rgba(60, 64, 67, 0.15);\n",
              "      fill: #174EA6;\n",
              "    }\n",
              "\n",
              "    [theme=dark] .colab-df-convert {\n",
              "      background-color: #3B4455;\n",
              "      fill: #D2E3FC;\n",
              "    }\n",
              "\n",
              "    [theme=dark] .colab-df-convert:hover {\n",
              "      background-color: #434B5C;\n",
              "      box-shadow: 0px 1px 3px 1px rgba(0, 0, 0, 0.15);\n",
              "      filter: drop-shadow(0px 1px 2px rgba(0, 0, 0, 0.3));\n",
              "      fill: #FFFFFF;\n",
              "    }\n",
              "  </style>\n",
              "\n",
              "      <script>\n",
              "        const buttonEl =\n",
              "          document.querySelector('#df-19a31e6e-a752-4377-9827-7c780b62abbb button.colab-df-convert');\n",
              "        buttonEl.style.display =\n",
              "          google.colab.kernel.accessAllowed ? 'block' : 'none';\n",
              "\n",
              "        async function convertToInteractive(key) {\n",
              "          const element = document.querySelector('#df-19a31e6e-a752-4377-9827-7c780b62abbb');\n",
              "          const dataTable =\n",
              "            await google.colab.kernel.invokeFunction('convertToInteractive',\n",
              "                                                     [key], {});\n",
              "          if (!dataTable) return;\n",
              "\n",
              "          const docLinkHtml = 'Like what you see? Visit the ' +\n",
              "            '<a target=\"_blank\" href=https://colab.research.google.com/notebooks/data_table.ipynb>data table notebook</a>'\n",
              "            + ' to learn more about interactive tables.';\n",
              "          element.innerHTML = '';\n",
              "          dataTable['output_type'] = 'display_data';\n",
              "          await google.colab.output.renderOutput(dataTable, element);\n",
              "          const docLink = document.createElement('div');\n",
              "          docLink.innerHTML = docLinkHtml;\n",
              "          element.appendChild(docLink);\n",
              "        }\n",
              "      </script>\n",
              "    </div>\n",
              "  </div>\n",
              "  "
            ]
          },
          "metadata": {},
          "execution_count": 19
        }
      ]
    },
    {
      "cell_type": "markdown",
      "metadata": {
        "id": "zabsZu_l49ss"
      },
      "source": [
        "### Data analysis & visualization (EDA)\n",
        "\n",
        "After some data preprocessing, let's analyze the data using graphs to get a  better understanding about its distribution\n",
        "\n",
        "\n",
        "\n"
      ]
    },
    {
      "cell_type": "code",
      "metadata": {
        "id": "Z1wm7NyCmcbc",
        "colab": {
          "base_uri": "https://localhost:8080/"
        },
        "outputId": "6013c0f9-abbb-40c3-9b72-1832f4307e24"
      },
      "source": [
        "df.info()       # No NAN values. Clean dataset"
      ],
      "execution_count": null,
      "outputs": [
        {
          "output_type": "stream",
          "name": "stdout",
          "text": [
            "<class 'pandas.core.frame.DataFrame'>\n",
            "Int64Index: 8600 entries, 0 to 8600\n",
            "Data columns (total 4 columns):\n",
            " #   Column  Non-Null Count  Dtype  \n",
            "---  ------  --------------  -----  \n",
            " 0   age     8600 non-null   float64\n",
            " 1   gender  8600 non-null   object \n",
            " 2   race    8600 non-null   object \n",
            " 3   file    8600 non-null   object \n",
            "dtypes: float64(1), object(3)\n",
            "memory usage: 335.9+ KB\n"
          ]
        }
      ]
    },
    {
      "cell_type": "code",
      "metadata": {
        "id": "tlQO4_WKmihH",
        "colab": {
          "base_uri": "https://localhost:8080/",
          "height": 300
        },
        "outputId": "ef9e9b7d-8939-4511-ac13-c72841aaddd7"
      },
      "source": [
        "df.describe()\n",
        "\n",
        "# Lower percentile - 25, median - 50 & upper percentile - 75 (for numerical data)"
      ],
      "execution_count": null,
      "outputs": [
        {
          "output_type": "execute_result",
          "data": {
            "text/plain": [
              "               age\n",
              "count  8600.000000\n",
              "mean     33.331512\n",
              "std      19.715395\n",
              "min       1.000000\n",
              "25%      23.000000\n",
              "50%      29.000000\n",
              "75%      45.000000\n",
              "max     116.000000"
            ],
            "text/html": [
              "\n",
              "  <div id=\"df-6b0b15c4-e032-418b-b611-da2ea4e5b2ba\">\n",
              "    <div class=\"colab-df-container\">\n",
              "      <div>\n",
              "<style scoped>\n",
              "    .dataframe tbody tr th:only-of-type {\n",
              "        vertical-align: middle;\n",
              "    }\n",
              "\n",
              "    .dataframe tbody tr th {\n",
              "        vertical-align: top;\n",
              "    }\n",
              "\n",
              "    .dataframe thead th {\n",
              "        text-align: right;\n",
              "    }\n",
              "</style>\n",
              "<table border=\"1\" class=\"dataframe\">\n",
              "  <thead>\n",
              "    <tr style=\"text-align: right;\">\n",
              "      <th></th>\n",
              "      <th>age</th>\n",
              "    </tr>\n",
              "  </thead>\n",
              "  <tbody>\n",
              "    <tr>\n",
              "      <th>count</th>\n",
              "      <td>8600.000000</td>\n",
              "    </tr>\n",
              "    <tr>\n",
              "      <th>mean</th>\n",
              "      <td>33.331512</td>\n",
              "    </tr>\n",
              "    <tr>\n",
              "      <th>std</th>\n",
              "      <td>19.715395</td>\n",
              "    </tr>\n",
              "    <tr>\n",
              "      <th>min</th>\n",
              "      <td>1.000000</td>\n",
              "    </tr>\n",
              "    <tr>\n",
              "      <th>25%</th>\n",
              "      <td>23.000000</td>\n",
              "    </tr>\n",
              "    <tr>\n",
              "      <th>50%</th>\n",
              "      <td>29.000000</td>\n",
              "    </tr>\n",
              "    <tr>\n",
              "      <th>75%</th>\n",
              "      <td>45.000000</td>\n",
              "    </tr>\n",
              "    <tr>\n",
              "      <th>max</th>\n",
              "      <td>116.000000</td>\n",
              "    </tr>\n",
              "  </tbody>\n",
              "</table>\n",
              "</div>\n",
              "      <button class=\"colab-df-convert\" onclick=\"convertToInteractive('df-6b0b15c4-e032-418b-b611-da2ea4e5b2ba')\"\n",
              "              title=\"Convert this dataframe to an interactive table.\"\n",
              "              style=\"display:none;\">\n",
              "        \n",
              "  <svg xmlns=\"http://www.w3.org/2000/svg\" height=\"24px\"viewBox=\"0 0 24 24\"\n",
              "       width=\"24px\">\n",
              "    <path d=\"M0 0h24v24H0V0z\" fill=\"none\"/>\n",
              "    <path d=\"M18.56 5.44l.94 2.06.94-2.06 2.06-.94-2.06-.94-.94-2.06-.94 2.06-2.06.94zm-11 1L8.5 8.5l.94-2.06 2.06-.94-2.06-.94L8.5 2.5l-.94 2.06-2.06.94zm10 10l.94 2.06.94-2.06 2.06-.94-2.06-.94-.94-2.06-.94 2.06-2.06.94z\"/><path d=\"M17.41 7.96l-1.37-1.37c-.4-.4-.92-.59-1.43-.59-.52 0-1.04.2-1.43.59L10.3 9.45l-7.72 7.72c-.78.78-.78 2.05 0 2.83L4 21.41c.39.39.9.59 1.41.59.51 0 1.02-.2 1.41-.59l7.78-7.78 2.81-2.81c.8-.78.8-2.07 0-2.86zM5.41 20L4 18.59l7.72-7.72 1.47 1.35L5.41 20z\"/>\n",
              "  </svg>\n",
              "      </button>\n",
              "      \n",
              "  <style>\n",
              "    .colab-df-container {\n",
              "      display:flex;\n",
              "      flex-wrap:wrap;\n",
              "      gap: 12px;\n",
              "    }\n",
              "\n",
              "    .colab-df-convert {\n",
              "      background-color: #E8F0FE;\n",
              "      border: none;\n",
              "      border-radius: 50%;\n",
              "      cursor: pointer;\n",
              "      display: none;\n",
              "      fill: #1967D2;\n",
              "      height: 32px;\n",
              "      padding: 0 0 0 0;\n",
              "      width: 32px;\n",
              "    }\n",
              "\n",
              "    .colab-df-convert:hover {\n",
              "      background-color: #E2EBFA;\n",
              "      box-shadow: 0px 1px 2px rgba(60, 64, 67, 0.3), 0px 1px 3px 1px rgba(60, 64, 67, 0.15);\n",
              "      fill: #174EA6;\n",
              "    }\n",
              "\n",
              "    [theme=dark] .colab-df-convert {\n",
              "      background-color: #3B4455;\n",
              "      fill: #D2E3FC;\n",
              "    }\n",
              "\n",
              "    [theme=dark] .colab-df-convert:hover {\n",
              "      background-color: #434B5C;\n",
              "      box-shadow: 0px 1px 3px 1px rgba(0, 0, 0, 0.15);\n",
              "      filter: drop-shadow(0px 1px 2px rgba(0, 0, 0, 0.3));\n",
              "      fill: #FFFFFF;\n",
              "    }\n",
              "  </style>\n",
              "\n",
              "      <script>\n",
              "        const buttonEl =\n",
              "          document.querySelector('#df-6b0b15c4-e032-418b-b611-da2ea4e5b2ba button.colab-df-convert');\n",
              "        buttonEl.style.display =\n",
              "          google.colab.kernel.accessAllowed ? 'block' : 'none';\n",
              "\n",
              "        async function convertToInteractive(key) {\n",
              "          const element = document.querySelector('#df-6b0b15c4-e032-418b-b611-da2ea4e5b2ba');\n",
              "          const dataTable =\n",
              "            await google.colab.kernel.invokeFunction('convertToInteractive',\n",
              "                                                     [key], {});\n",
              "          if (!dataTable) return;\n",
              "\n",
              "          const docLinkHtml = 'Like what you see? Visit the ' +\n",
              "            '<a target=\"_blank\" href=https://colab.research.google.com/notebooks/data_table.ipynb>data table notebook</a>'\n",
              "            + ' to learn more about interactive tables.';\n",
              "          element.innerHTML = '';\n",
              "          dataTable['output_type'] = 'display_data';\n",
              "          await google.colab.output.renderOutput(dataTable, element);\n",
              "          const docLink = document.createElement('div');\n",
              "          docLink.innerHTML = docLinkHtml;\n",
              "          element.appendChild(docLink);\n",
              "        }\n",
              "      </script>\n",
              "    </div>\n",
              "  </div>\n",
              "  "
            ]
          },
          "metadata": {},
          "execution_count": 21
        }
      ]
    },
    {
      "cell_type": "code",
      "metadata": {
        "id": "K-d6Te5jCZAP",
        "colab": {
          "base_uri": "https://localhost:8080/",
          "height": 268
        },
        "outputId": "f12743bc-acf8-47ac-b960-faec09941f4c"
      },
      "source": [
        "ages = df['age']\n",
        "nbins = 10\n",
        "plt.hist(ages,nbins,color='green',histtype='bar')\n",
        "plt.show()\n",
        "\n",
        "# Majority population lies between 20-30 age group. Clearly, the dataset is not very well balanced. So training will \n",
        "# not be easy & accurate. We don't want to be biased. Try using class weights ?"
      ],
      "execution_count": null,
      "outputs": [
        {
          "output_type": "display_data",
          "data": {
            "text/plain": [
              "<Figure size 432x288 with 1 Axes>"
            ],
            "image/png": "[encoded data removed]"
          },
          "metadata": {}
        }
      ]
    },
    {
      "cell_type": "code",
      "metadata": {
        "id": "_zqXUmzvCoY8",
        "colab": {
          "base_uri": "https://localhost:8080/",
          "height": 270
        },
        "outputId": "c1d376b3-7d86-48e7-dd35-c9ecfa3e4bdf"
      },
      "source": [
        "x = (df.gender=='male').sum()\n",
        "y = (df.gender=='female').sum()\n",
        "gender = [x,y]\n",
        "labels = ['male','female']\n",
        "colors = [ 'y', 'g'] \n",
        "plt.pie(gender,labels = labels,colors = colors,radius=1.2,autopct='%.1f%%')\n",
        "plt.show()\n",
        "\n",
        "# Uniform distribution to a large extent. Although, males slightly exceed females in numbers.No need to change gender in data. \n",
        "# Pretty well balanced ! Lets also visualize this on a bar graph (to get better understanding of numbers)"
      ],
      "execution_count": null,
      "outputs": [
        {
          "output_type": "display_data",
          "data": {
            "text/plain": [
              "<Figure size 432x288 with 1 Axes>"
            ],
            "image/png": "[encoded data removed]"
          },
          "metadata": {}
        }
      ]
    },
    {
      "cell_type": "code",
      "metadata": {
        "id": "WPmYRcKWm2oA",
        "colab": {
          "base_uri": "https://localhost:8080/",
          "height": 285
        },
        "outputId": "9bca145a-9f7a-437e-805a-d9447989df96"
      },
      "source": [
        "sns.countplot(x='gender', data=df);\n",
        "\n",
        "# Males ~ Just over 12k\n",
        "# Females ~ Just over 11k"
      ],
      "execution_count": null,
      "outputs": [
        {
          "output_type": "display_data",
          "data": {
            "text/plain": [
              "<Figure size 432x288 with 1 Axes>"
            ],
            "image/png": "[encoded data removed]"
          },
          "metadata": {}
        }
      ]
    },
    {
      "cell_type": "code",
      "metadata": {
        "id": "URvsgIlLm5WQ",
        "colab": {
          "base_uri": "https://localhost:8080/",
          "height": 143
        },
        "outputId": "702e15b6-9793-4045-afc2-6bc7551eb5d7"
      },
      "source": [
        "df.groupby(['gender']).mean()             # Mean age by gender"
      ],
      "execution_count": null,
      "outputs": [
        {
          "output_type": "execute_result",
          "data": {
            "text/plain": [
              "              age\n",
              "gender           \n",
              "female  30.750670\n",
              "male    35.686235"
            ],
            "text/html": [
              "\n",
              "  <div id=\"df-5ff50b47-2123-41c4-94ad-5f9cb3ec9ce4\">\n",
              "    <div class=\"colab-df-container\">\n",
              "      <div>\n",
              "<style scoped>\n",
              "    .dataframe tbody tr th:only-of-type {\n",
              "        vertical-align: middle;\n",
              "    }\n",
              "\n",
              "    .dataframe tbody tr th {\n",
              "        vertical-align: top;\n",
              "    }\n",
              "\n",
              "    .dataframe thead th {\n",
              "        text-align: right;\n",
              "    }\n",
              "</style>\n",
              "<table border=\"1\" class=\"dataframe\">\n",
              "  <thead>\n",
              "    <tr style=\"text-align: right;\">\n",
              "      <th></th>\n",
              "      <th>age</th>\n",
              "    </tr>\n",
              "    <tr>\n",
              "      <th>gender</th>\n",
              "      <th></th>\n",
              "    </tr>\n",
              "  </thead>\n",
              "  <tbody>\n",
              "    <tr>\n",
              "      <th>female</th>\n",
              "      <td>30.750670</td>\n",
              "    </tr>\n",
              "    <tr>\n",
              "      <th>male</th>\n",
              "      <td>35.686235</td>\n",
              "    </tr>\n",
              "  </tbody>\n",
              "</table>\n",
              "</div>\n",
              "      <button class=\"colab-df-convert\" onclick=\"convertToInteractive('df-5ff50b47-2123-41c4-94ad-5f9cb3ec9ce4')\"\n",
              "              title=\"Convert this dataframe to an interactive table.\"\n",
              "              style=\"display:none;\">\n",
              "        \n",
              "  <svg xmlns=\"http://www.w3.org/2000/svg\" height=\"24px\"viewBox=\"0 0 24 24\"\n",
              "       width=\"24px\">\n",
              "    <path d=\"M0 0h24v24H0V0z\" fill=\"none\"/>\n",
              "    <path d=\"M18.56 5.44l.94 2.06.94-2.06 2.06-.94-2.06-.94-.94-2.06-.94 2.06-2.06.94zm-11 1L8.5 8.5l.94-2.06 2.06-.94-2.06-.94L8.5 2.5l-.94 2.06-2.06.94zm10 10l.94 2.06.94-2.06 2.06-.94-2.06-.94-.94-2.06-.94 2.06-2.06.94z\"/><path d=\"M17.41 7.96l-1.37-1.37c-.4-.4-.92-.59-1.43-.59-.52 0-1.04.2-1.43.59L10.3 9.45l-7.72 7.72c-.78.78-.78 2.05 0 2.83L4 21.41c.39.39.9.59 1.41.59.51 0 1.02-.2 1.41-.59l7.78-7.78 2.81-2.81c.8-.78.8-2.07 0-2.86zM5.41 20L4 18.59l7.72-7.72 1.47 1.35L5.41 20z\"/>\n",
              "  </svg>\n",
              "      </button>\n",
              "      \n",
              "  <style>\n",
              "    .colab-df-container {\n",
              "      display:flex;\n",
              "      flex-wrap:wrap;\n",
              "      gap: 12px;\n",
              "    }\n",
              "\n",
              "    .colab-df-convert {\n",
              "      background-color: #E8F0FE;\n",
              "      border: none;\n",
              "      border-radius: 50%;\n",
              "      cursor: pointer;\n",
              "      display: none;\n",
              "      fill: #1967D2;\n",
              "      height: 32px;\n",
              "      padding: 0 0 0 0;\n",
              "      width: 32px;\n",
              "    }\n",
              "\n",
              "    .colab-df-convert:hover {\n",
              "      background-color: #E2EBFA;\n",
              "      box-shadow: 0px 1px 2px rgba(60, 64, 67, 0.3), 0px 1px 3px 1px rgba(60, 64, 67, 0.15);\n",
              "      fill: #174EA6;\n",
              "    }\n",
              "\n",
              "    [theme=dark] .colab-df-convert {\n",
              "      background-color: #3B4455;\n",
              "      fill: #D2E3FC;\n",
              "    }\n",
              "\n",
              "    [theme=dark] .colab-df-convert:hover {\n",
              "      background-color: #434B5C;\n",
              "      box-shadow: 0px 1px 3px 1px rgba(0, 0, 0, 0.15);\n",
              "      filter: drop-shadow(0px 1px 2px rgba(0, 0, 0, 0.3));\n",
              "      fill: #FFFFFF;\n",
              "    }\n",
              "  </style>\n",
              "\n",
              "      <script>\n",
              "        const buttonEl =\n",
              "          document.querySelector('#df-5ff50b47-2123-41c4-94ad-5f9cb3ec9ce4 button.colab-df-convert');\n",
              "        buttonEl.style.display =\n",
              "          google.colab.kernel.accessAllowed ? 'block' : 'none';\n",
              "\n",
              "        async function convertToInteractive(key) {\n",
              "          const element = document.querySelector('#df-5ff50b47-2123-41c4-94ad-5f9cb3ec9ce4');\n",
              "          const dataTable =\n",
              "            await google.colab.kernel.invokeFunction('convertToInteractive',\n",
              "                                                     [key], {});\n",
              "          if (!dataTable) return;\n",
              "\n",
              "          const docLinkHtml = 'Like what you see? Visit the ' +\n",
              "            '<a target=\"_blank\" href=https://colab.research.google.com/notebooks/data_table.ipynb>data table notebook</a>'\n",
              "            + ' to learn more about interactive tables.';\n",
              "          element.innerHTML = '';\n",
              "          dataTable['output_type'] = 'display_data';\n",
              "          await google.colab.output.renderOutput(dataTable, element);\n",
              "          const docLink = document.createElement('div');\n",
              "          docLink.innerHTML = docLinkHtml;\n",
              "          element.appendChild(docLink);\n",
              "        }\n",
              "      </script>\n",
              "    </div>\n",
              "  </div>\n",
              "  "
            ]
          },
          "metadata": {},
          "execution_count": 25
        }
      ]
    },
    {
      "cell_type": "code",
      "metadata": {
        "id": "F7VpVyjzf60k",
        "colab": {
          "base_uri": "https://localhost:8080/",
          "height": 259
        },
        "outputId": "023a6bf5-dee8-49ad-db5e-4fbbe9d423b5"
      },
      "source": [
        "x = (df.race=='white').sum()\n",
        "y = (df.race=='black').sum()\n",
        "z = (df.race=='asian').sum()\n",
        "a = (df.race=='indian').sum()\n",
        "b = (df.race=='others').sum()\n",
        "\n",
        "gender = [x,y,z,a,b]\n",
        "labels = ['white','black','asian','indian','others']\n",
        "colors = [ 'y', 'g','b','r','m'] \n",
        "plt.pie(gender,labels = labels,colors = colors,radius=1.2,autopct='%.1f%%')\n",
        "plt.show()"
      ],
      "execution_count": null,
      "outputs": [
        {
          "output_type": "display_data",
          "data": {
            "text/plain": [
              "<Figure size 432x288 with 1 Axes>"
            ],
            "image/png": "[encoded data removed]"
          },
          "metadata": {}
        }
      ]
    },
    {
      "cell_type": "code",
      "metadata": {
        "id": "ktdLw0fCm-gO",
        "colab": {
          "base_uri": "https://localhost:8080/",
          "height": 237
        },
        "outputId": "a533b5f0-15aa-4723-f77e-dba29bded7de"
      },
      "source": [
        "df.groupby(['race']).mean()               # Mean age by race"
      ],
      "execution_count": null,
      "outputs": [
        {
          "output_type": "execute_result",
          "data": {
            "text/plain": [
              "              age\n",
              "race             \n",
              "asian   25.852003\n",
              "black   34.074385\n",
              "indian  31.317606\n",
              "others  22.846512\n",
              "white   38.141289"
            ],
            "text/html": [
              "\n",
              "  <div id=\"df-37b154aa-4c19-4e01-8eb9-be5809199ca7\">\n",
              "    <div class=\"colab-df-container\">\n",
              "      <div>\n",
              "<style scoped>\n",
              "    .dataframe tbody tr th:only-of-type {\n",
              "        vertical-align: middle;\n",
              "    }\n",
              "\n",
              "    .dataframe tbody tr th {\n",
              "        vertical-align: top;\n",
              "    }\n",
              "\n",
              "    .dataframe thead th {\n",
              "        text-align: right;\n",
              "    }\n",
              "</style>\n",
              "<table border=\"1\" class=\"dataframe\">\n",
              "  <thead>\n",
              "    <tr style=\"text-align: right;\">\n",
              "      <th></th>\n",
              "      <th>age</th>\n",
              "    </tr>\n",
              "    <tr>\n",
              "      <th>race</th>\n",
              "      <th></th>\n",
              "    </tr>\n",
              "  </thead>\n",
              "  <tbody>\n",
              "    <tr>\n",
              "      <th>asian</th>\n",
              "      <td>25.852003</td>\n",
              "    </tr>\n",
              "    <tr>\n",
              "      <th>black</th>\n",
              "      <td>34.074385</td>\n",
              "    </tr>\n",
              "    <tr>\n",
              "      <th>indian</th>\n",
              "      <td>31.317606</td>\n",
              "    </tr>\n",
              "    <tr>\n",
              "      <th>others</th>\n",
              "      <td>22.846512</td>\n",
              "    </tr>\n",
              "    <tr>\n",
              "      <th>white</th>\n",
              "      <td>38.141289</td>\n",
              "    </tr>\n",
              "  </tbody>\n",
              "</table>\n",
              "</div>\n",
              "      <button class=\"colab-df-convert\" onclick=\"convertToInteractive('df-37b154aa-4c19-4e01-8eb9-be5809199ca7')\"\n",
              "              title=\"Convert this dataframe to an interactive table.\"\n",
              "              style=\"display:none;\">\n",
              "        \n",
              "  <svg xmlns=\"http://www.w3.org/2000/svg\" height=\"24px\"viewBox=\"0 0 24 24\"\n",
              "       width=\"24px\">\n",
              "    <path d=\"M0 0h24v24H0V0z\" fill=\"none\"/>\n",
              "    <path d=\"M18.56 5.44l.94 2.06.94-2.06 2.06-.94-2.06-.94-.94-2.06-.94 2.06-2.06.94zm-11 1L8.5 8.5l.94-2.06 2.06-.94-2.06-.94L8.5 2.5l-.94 2.06-2.06.94zm10 10l.94 2.06.94-2.06 2.06-.94-2.06-.94-.94-2.06-.94 2.06-2.06.94z\"/><path d=\"M17.41 7.96l-1.37-1.37c-.4-.4-.92-.59-1.43-.59-.52 0-1.04.2-1.43.59L10.3 9.45l-7.72 7.72c-.78.78-.78 2.05 0 2.83L4 21.41c.39.39.9.59 1.41.59.51 0 1.02-.2 1.41-.59l7.78-7.78 2.81-2.81c.8-.78.8-2.07 0-2.86zM5.41 20L4 18.59l7.72-7.72 1.47 1.35L5.41 20z\"/>\n",
              "  </svg>\n",
              "      </button>\n",
              "      \n",
              "  <style>\n",
              "    .colab-df-container {\n",
              "      display:flex;\n",
              "      flex-wrap:wrap;\n",
              "      gap: 12px;\n",
              "    }\n",
              "\n",
              "    .colab-df-convert {\n",
              "      background-color: #E8F0FE;\n",
              "      border: none;\n",
              "      border-radius: 50%;\n",
              "      cursor: pointer;\n",
              "      display: none;\n",
              "      fill: #1967D2;\n",
              "      height: 32px;\n",
              "      padding: 0 0 0 0;\n",
              "      width: 32px;\n",
              "    }\n",
              "\n",
              "    .colab-df-convert:hover {\n",
              "      background-color: #E2EBFA;\n",
              "      box-shadow: 0px 1px 2px rgba(60, 64, 67, 0.3), 0px 1px 3px 1px rgba(60, 64, 67, 0.15);\n",
              "      fill: #174EA6;\n",
              "    }\n",
              "\n",
              "    [theme=dark] .colab-df-convert {\n",
              "      background-color: #3B4455;\n",
              "      fill: #D2E3FC;\n",
              "    }\n",
              "\n",
              "    [theme=dark] .colab-df-convert:hover {\n",
              "      background-color: #434B5C;\n",
              "      box-shadow: 0px 1px 3px 1px rgba(0, 0, 0, 0.15);\n",
              "      filter: drop-shadow(0px 1px 2px rgba(0, 0, 0, 0.3));\n",
              "      fill: #FFFFFF;\n",
              "    }\n",
              "  </style>\n",
              "\n",
              "      <script>\n",
              "        const buttonEl =\n",
              "          document.querySelector('#df-37b154aa-4c19-4e01-8eb9-be5809199ca7 button.colab-df-convert');\n",
              "        buttonEl.style.display =\n",
              "          google.colab.kernel.accessAllowed ? 'block' : 'none';\n",
              "\n",
              "        async function convertToInteractive(key) {\n",
              "          const element = document.querySelector('#df-37b154aa-4c19-4e01-8eb9-be5809199ca7');\n",
              "          const dataTable =\n",
              "            await google.colab.kernel.invokeFunction('convertToInteractive',\n",
              "                                                     [key], {});\n",
              "          if (!dataTable) return;\n",
              "\n",
              "          const docLinkHtml = 'Like what you see? Visit the ' +\n",
              "            '<a target=\"_blank\" href=https://colab.research.google.com/notebooks/data_table.ipynb>data table notebook</a>'\n",
              "            + ' to learn more about interactive tables.';\n",
              "          element.innerHTML = '';\n",
              "          dataTable['output_type'] = 'display_data';\n",
              "          await google.colab.output.renderOutput(dataTable, element);\n",
              "          const docLink = document.createElement('div');\n",
              "          docLink.innerHTML = docLinkHtml;\n",
              "          element.appendChild(docLink);\n",
              "        }\n",
              "      </script>\n",
              "    </div>\n",
              "  </div>\n",
              "  "
            ]
          },
          "metadata": {},
          "execution_count": 27
        }
      ]
    },
    {
      "cell_type": "code",
      "metadata": {
        "id": "wwTJEdNhnC4v",
        "colab": {
          "base_uri": "https://localhost:8080/",
          "height": 286
        },
        "outputId": "53c137c7-6437-4e66-8db3-8f47e1c78d06"
      },
      "source": [
        "sns.set(style =\"whitegrid\") \n",
        "_ = sns.stripplot(x='race',y='age',data=df)\n",
        "\n",
        "# Not very useful :( , we only understand that not many elderly ppl (above 60) in others category are present "
      ],
      "execution_count": null,
      "outputs": [
        {
          "output_type": "display_data",
          "data": {
            "text/plain": [
              "<Figure size 432x288 with 1 Axes>"
            ],
            "image/png": "[encoded data removed]"
          },
          "metadata": {}
        }
      ]
    },
    {
      "cell_type": "code",
      "metadata": {
        "id": "L21qaRLfnEIs",
        "colab": {
          "base_uri": "https://localhost:8080/",
          "height": 456
        },
        "outputId": "26e335f2-d0cf-493c-e311-b6f5ffa508d9"
      },
      "source": [
        "sns.factorplot('race', 'age', 'gender', data=df,kind='bar');\n",
        "\n",
        "# Gives the mean age of both genders of all races"
      ],
      "execution_count": null,
      "outputs": [
        {
          "output_type": "stream",
          "name": "stderr",
          "text": [
            "/usr/local/lib/python3.7/dist-packages/seaborn/categorical.py:3717: UserWarning: The `factorplot` function has been renamed to `catplot`. The original name will be removed in a future release. Please update your code. Note that the default `kind` in `factorplot` (`'point'`) has changed `'strip'` in `catplot`.\n",
            "  warnings.warn(msg)\n",
            "/usr/local/lib/python3.7/dist-packages/seaborn/_decorators.py:43: FutureWarning: Pass the following variables as keyword args: x, y, hue. From version 0.12, the only valid positional argument will be `data`, and passing other arguments without an explicit keyword will result in an error or misinterpretation.\n",
            "  FutureWarning\n"
          ]
        },
        {
          "output_type": "display_data",
          "data": {
            "text/plain": [
              "<Figure size 437.975x360 with 1 Axes>"
            ],
            "image/png": "[encoded data removed]"
          },
          "metadata": {}
        }
      ]
    },
    {
      "cell_type": "code",
      "metadata": {
        "id": "mMwhlvZCEvfh",
        "colab": {
          "base_uri": "https://localhost:8080/",
          "height": 394
        },
        "outputId": "305afaa8-9005-403d-ec31-250546e7011a"
      },
      "source": [
        "fig, (ax1, ax2) = plt.subplots(1, 2, figsize=(15, 6))\n",
        "_ = sns.boxplot(data=df, x='gender', y='age', ax=ax1)\n",
        "_ = sns.boxplot(data=df, x='race', y='age', ax=ax2)\n",
        "\n",
        "# We see that most of males are between 25 and 55, whereas most of the females are between 20 and 35\n",
        "# Even while grouping by race, we find good amount of variations in different races"
      ],
      "execution_count": null,
      "outputs": [
        {
          "output_type": "display_data",
          "data": {
            "text/plain": [
              "<Figure size 1080x432 with 2 Axes>"
            ],
            "image/png": "[encoded data removed]"
          },
          "metadata": {}
        }
      ]
    },
    {
      "cell_type": "code",
      "metadata": {
        "id": "UwHXd5SiZOOe",
        "colab": {
          "base_uri": "https://localhost:8080/",
          "height": 35
        },
        "outputId": "9ae03ce0-f6ee-4b0d-f1d8-aed405d839d1"
      },
      "source": [
        "df['age'] = df['age']//25\n",
        "\n",
        "''' This basically makes 5 divisions in age-groups - \n",
        "1. 0-24\n",
        "2. 25-49\n",
        "3. 50-74\n",
        "4. 75-99\n",
        "5. 100-124 '''"
      ],
      "execution_count": null,
      "outputs": [
        {
          "output_type": "execute_result",
          "data": {
            "text/plain": [
              "' This basically makes 5 divisions in age-groups - \\n1. 0-24\\n2. 25-49\\n3. 50-74\\n4. 75-99\\n5. 100-124 '"
            ],
            "application/vnd.google.colaboratory.intrinsic+json": {
              "type": "string"
            }
          },
          "metadata": {},
          "execution_count": 31
        }
      ]
    },
    {
      "cell_type": "code",
      "metadata": {
        "id": "jZdwi9g299yT",
        "colab": {
          "base_uri": "https://localhost:8080/"
        },
        "outputId": "75a4d1f8-9736-46d0-fc86-bca5c16437d3"
      },
      "source": [
        "x = (df.age==0).sum()\n",
        "y = (df.age==1).sum()\n",
        "z = (df.age==2).sum()\n",
        "a = (df.age==3).sum()\n",
        "b = (df.age==4).sum()\n",
        "c = (df.age==5).sum()\n",
        "\n",
        "print(x,' ',y,' ',z,' ',a,' ',b, ' ',c)\n"
      ],
      "execution_count": null,
      "outputs": [
        {
          "output_type": "stream",
          "name": "stdout",
          "text": [
            "2463   4306   1478   345   8   0\n"
          ]
        }
      ]
    },
    {
      "cell_type": "code",
      "metadata": {
        "id": "WykEQKn9DYW-",
        "colab": {
          "base_uri": "https://localhost:8080/",
          "height": 206
        },
        "outputId": "3fed0549-8d2a-435e-e1fa-c5042ec518a3"
      },
      "source": [
        "df.head()"
      ],
      "execution_count": null,
      "outputs": [
        {
          "output_type": "execute_result",
          "data": {
            "text/plain": [
              "   age  gender    race                                               file\n",
              "0  0.0  female  indian  /content/drive/MyDrive/Age_Geneder_UTKDataSet/...\n",
              "1  0.0  female  indian  /content/drive/MyDrive/Age_Geneder_UTKDataSet/...\n",
              "2  0.0  female  indian  /content/drive/MyDrive/Age_Geneder_UTKDataSet/...\n",
              "3  0.0  female  indian  /content/drive/MyDrive/Age_Geneder_UTKDataSet/...\n",
              "4  0.0    male   white  /content/drive/MyDrive/Age_Geneder_UTKDataSet/..."
            ],
            "text/html": [
              "\n",
              "  <div id=\"df-2e360819-db35-4d96-a1c7-99ec7acc0915\">\n",
              "    <div class=\"colab-df-container\">\n",
              "      <div>\n",
              "<style scoped>\n",
              "    .dataframe tbody tr th:only-of-type {\n",
              "        vertical-align: middle;\n",
              "    }\n",
              "\n",
              "    .dataframe tbody tr th {\n",
              "        vertical-align: top;\n",
              "    }\n",
              "\n",
              "    .dataframe thead th {\n",
              "        text-align: right;\n",
              "    }\n",
              "</style>\n",
              "<table border=\"1\" class=\"dataframe\">\n",
              "  <thead>\n",
              "    <tr style=\"text-align: right;\">\n",
              "      <th></th>\n",
              "      <th>age</th>\n",
              "      <th>gender</th>\n",
              "      <th>race</th>\n",
              "      <th>file</th>\n",
              "    </tr>\n",
              "  </thead>\n",
              "  <tbody>\n",
              "    <tr>\n",
              "      <th>0</th>\n",
              "      <td>0.0</td>\n",
              "      <td>female</td>\n",
              "      <td>indian</td>\n",
              "      <td>/content/drive/MyDrive/Age_Geneder_UTKDataSet/...</td>\n",
              "    </tr>\n",
              "    <tr>\n",
              "      <th>1</th>\n",
              "      <td>0.0</td>\n",
              "      <td>female</td>\n",
              "      <td>indian</td>\n",
              "      <td>/content/drive/MyDrive/Age_Geneder_UTKDataSet/...</td>\n",
              "    </tr>\n",
              "    <tr>\n",
              "      <th>2</th>\n",
              "      <td>0.0</td>\n",
              "      <td>female</td>\n",
              "      <td>indian</td>\n",
              "      <td>/content/drive/MyDrive/Age_Geneder_UTKDataSet/...</td>\n",
              "    </tr>\n",
              "    <tr>\n",
              "      <th>3</th>\n",
              "      <td>0.0</td>\n",
              "      <td>female</td>\n",
              "      <td>indian</td>\n",
              "      <td>/content/drive/MyDrive/Age_Geneder_UTKDataSet/...</td>\n",
              "    </tr>\n",
              "    <tr>\n",
              "      <th>4</th>\n",
              "      <td>0.0</td>\n",
              "      <td>male</td>\n",
              "      <td>white</td>\n",
              "      <td>/content/drive/MyDrive/Age_Geneder_UTKDataSet/...</td>\n",
              "    </tr>\n",
              "  </tbody>\n",
              "</table>\n",
              "</div>\n",
              "      <button class=\"colab-df-convert\" onclick=\"convertToInteractive('df-2e360819-db35-4d96-a1c7-99ec7acc0915')\"\n",
              "              title=\"Convert this dataframe to an interactive table.\"\n",
              "              style=\"display:none;\">\n",
              "        \n",
              "  <svg xmlns=\"http://www.w3.org/2000/svg\" height=\"24px\"viewBox=\"0 0 24 24\"\n",
              "       width=\"24px\">\n",
              "    <path d=\"M0 0h24v24H0V0z\" fill=\"none\"/>\n",
              "    <path d=\"M18.56 5.44l.94 2.06.94-2.06 2.06-.94-2.06-.94-.94-2.06-.94 2.06-2.06.94zm-11 1L8.5 8.5l.94-2.06 2.06-.94-2.06-.94L8.5 2.5l-.94 2.06-2.06.94zm10 10l.94 2.06.94-2.06 2.06-.94-2.06-.94-.94-2.06-.94 2.06-2.06.94z\"/><path d=\"M17.41 7.96l-1.37-1.37c-.4-.4-.92-.59-1.43-.59-.52 0-1.04.2-1.43.59L10.3 9.45l-7.72 7.72c-.78.78-.78 2.05 0 2.83L4 21.41c.39.39.9.59 1.41.59.51 0 1.02-.2 1.41-.59l7.78-7.78 2.81-2.81c.8-.78.8-2.07 0-2.86zM5.41 20L4 18.59l7.72-7.72 1.47 1.35L5.41 20z\"/>\n",
              "  </svg>\n",
              "      </button>\n",
              "      \n",
              "  <style>\n",
              "    .colab-df-container {\n",
              "      display:flex;\n",
              "      flex-wrap:wrap;\n",
              "      gap: 12px;\n",
              "    }\n",
              "\n",
              "    .colab-df-convert {\n",
              "      background-color: #E8F0FE;\n",
              "      border: none;\n",
              "      border-radius: 50%;\n",
              "      cursor: pointer;\n",
              "      display: none;\n",
              "      fill: #1967D2;\n",
              "      height: 32px;\n",
              "      padding: 0 0 0 0;\n",
              "      width: 32px;\n",
              "    }\n",
              "\n",
              "    .colab-df-convert:hover {\n",
              "      background-color: #E2EBFA;\n",
              "      box-shadow: 0px 1px 2px rgba(60, 64, 67, 0.3), 0px 1px 3px 1px rgba(60, 64, 67, 0.15);\n",
              "      fill: #174EA6;\n",
              "    }\n",
              "\n",
              "    [theme=dark] .colab-df-convert {\n",
              "      background-color: #3B4455;\n",
              "      fill: #D2E3FC;\n",
              "    }\n",
              "\n",
              "    [theme=dark] .colab-df-convert:hover {\n",
              "      background-color: #434B5C;\n",
              "      box-shadow: 0px 1px 3px 1px rgba(0, 0, 0, 0.15);\n",
              "      filter: drop-shadow(0px 1px 2px rgba(0, 0, 0, 0.3));\n",
              "      fill: #FFFFFF;\n",
              "    }\n",
              "  </style>\n",
              "\n",
              "      <script>\n",
              "        const buttonEl =\n",
              "          document.querySelector('#df-2e360819-db35-4d96-a1c7-99ec7acc0915 button.colab-df-convert');\n",
              "        buttonEl.style.display =\n",
              "          google.colab.kernel.accessAllowed ? 'block' : 'none';\n",
              "\n",
              "        async function convertToInteractive(key) {\n",
              "          const element = document.querySelector('#df-2e360819-db35-4d96-a1c7-99ec7acc0915');\n",
              "          const dataTable =\n",
              "            await google.colab.kernel.invokeFunction('convertToInteractive',\n",
              "                                                     [key], {});\n",
              "          if (!dataTable) return;\n",
              "\n",
              "          const docLinkHtml = 'Like what you see? Visit the ' +\n",
              "            '<a target=\"_blank\" href=https://colab.research.google.com/notebooks/data_table.ipynb>data table notebook</a>'\n",
              "            + ' to learn more about interactive tables.';\n",
              "          element.innerHTML = '';\n",
              "          dataTable['output_type'] = 'display_data';\n",
              "          await google.colab.output.renderOutput(dataTable, element);\n",
              "          const docLink = document.createElement('div');\n",
              "          docLink.innerHTML = docLinkHtml;\n",
              "          element.appendChild(docLink);\n",
              "        }\n",
              "      </script>\n",
              "    </div>\n",
              "  </div>\n",
              "  "
            ]
          },
          "metadata": {},
          "execution_count": 33
        }
      ]
    },
    {
      "cell_type": "markdown",
      "metadata": {
        "id": "fGjYC8YbiYOr"
      },
      "source": [
        "## Data Generator\n",
        "In order to input our data to our Keras multi-output model, we have a helper object to work as a data generator for our dataset. This will be done by generating batches of data, which will be used to feed our multi-output model with both the images and their labels (instead of just loading all the dataset into the memory at once, which might lead to an out of memory error)."
      ]
    },
    {
      "cell_type": "code",
      "metadata": {
        "id": "kMRE13cQpr-i"
      },
      "source": [
        "from tensorflow.keras.utils import to_categorical\n",
        "from PIL import Image\n",
        "p = np.random.permutation(len(df))\n",
        "\n",
        "train_up_to = int(len(df) * TRAIN_TEST_SPLIT)      \n",
        "train_idx = p[:train_up_to]\n",
        "val_idx = p[train_up_to:]\n",
        "\n",
        "# converts alias to id\n",
        "df['gender_id'] = df['gender'].map(lambda gender: dataset_dict['gender_alias'][gender])\n",
        "df['race_id'] = df['race'].map(lambda race: dataset_dict['race_alias'][race])\n",
        "\n",
        "# Now we got train_idx, valid_idx, test_idx\n",
        "            \n",
        "def preprocess_image(img_path):   # Used to perform some minor preprocessing on the image before inputting into the network.\n",
        "    \n",
        "    im = Image.open(img_path)\n",
        "    im = im.resize((IM_WIDTH, IM_HEIGHT))\n",
        "    im = np.array(im) / 255.0\n",
        "    \n",
        "    return im\n",
        "        \n",
        "def generate_images(image_idx, is_training, batch_size=16):  # Used to generate a batch with images when training/validating our model.\n",
        "    \n",
        "    # arrays to store our batched data\n",
        "    images, ages, races, genders = [], [], [], []\n",
        "\n",
        "    while True:\n",
        "        for idx in image_idx:\n",
        "            person = df.iloc[idx]\n",
        "            \n",
        "            age = person['age']\n",
        "            race = person['race_id']\n",
        "            gender = person['gender_id']\n",
        "            file = person['file']\n",
        "            \n",
        "            im = preprocess_image(file)\n",
        "            \n",
        "            races.append(to_categorical(race, len(dataset_dict['race_id'])))\n",
        "            genders.append(to_categorical(gender, len(dataset_dict['gender_id'])))\n",
        "            ages.append(to_categorical(age,5))\n",
        "            images.append(im)\n",
        "            \n",
        "            # yielding condition\n",
        "            if len(images) >= batch_size:\n",
        "                yield np.array(images), [np.array(ages), np.array(genders)]\n",
        "                images, ages, genders = [], [], []\n",
        "                \n",
        "        if not is_training:\n",
        "            break\n",
        "            "
      ],
      "execution_count": null,
      "outputs": []
    },
    {
      "cell_type": "markdown",
      "metadata": {
        "id": "_ObdH1MkKatt"
      },
      "source": [
        "## Model Architecture"
      ]
    },
    {
      "cell_type": "code",
      "metadata": {
        "id": "sKw1rg2SE4og"
      },
      "source": [
        "from keras.models import Model\n",
        "from tensorflow.keras.layers import BatchNormalization\n",
        "from keras.layers.convolutional import Conv2D\n",
        "from keras.layers.convolutional import SeparableConv2D\n",
        "from keras.layers.convolutional import MaxPooling2D\n",
        "from keras.layers.core import Activation\n",
        "from keras.layers.core import Dropout\n",
        "from keras.layers import SpatialDropout2D\n",
        "from keras.layers.core import Lambda\n",
        "from keras.layers.core import Dense\n",
        "from keras.layers import Flatten\n",
        "from keras.layers import Input\n",
        "from keras.regularizers import l2\n",
        "\n",
        "import tensorflow as tf\n",
        "\n",
        "def make_default_hidden_layers(inputs):\n",
        "\n",
        "    x = SeparableConv2D(32, (3, 3), padding=\"same\")(inputs)\n",
        "    x = Activation(\"relu\")(x)\n",
        "    x = MaxPooling2D(pool_size=(3, 3))(x)\n",
        "    x = BatchNormalization(axis=-1)(x)\n",
        "\n",
        "    x = SeparableConv2D(64, (3, 3), padding=\"same\")(x)\n",
        "    x = Activation(\"relu\")(x)\n",
        "    x = MaxPooling2D(pool_size=(2, 2))(x)\n",
        "    x = BatchNormalization(axis=-1)(x)\n",
        "\n",
        "    x = SeparableConv2D(128, (3, 3), padding=\"same\")(x)\n",
        "    x = Activation(\"relu\")(x)\n",
        "    x = MaxPooling2D(pool_size=(2, 2))(x)\n",
        "    x = BatchNormalization(axis=-1)(x)\n",
        "\n",
        "    x = SeparableConv2D(128, (3, 3), padding=\"same\")(x)\n",
        "    x = Activation(\"relu\")(x)\n",
        "    x = MaxPooling2D(pool_size=(2, 2))(x)\n",
        "    x = SpatialDropout2D(0.1)(x)\n",
        "    x = BatchNormalization(axis=-1)(x)\n",
        "\n",
        "    x = SeparableConv2D(256, (3, 3), padding=\"same\")(x)\n",
        "    x = Activation(\"relu\")(x)\n",
        "    x = MaxPooling2D(pool_size=(2, 2))(x)\n",
        "    x = SpatialDropout2D(0.1)(x)\n",
        "    x = BatchNormalization(axis=-1)(x)\n",
        "\n",
        "    x = SeparableConv2D(256, (3, 3), padding=\"same\")(x)\n",
        "    x = Activation(\"relu\")(x)\n",
        "    x = MaxPooling2D(pool_size=(2, 2))(x)\n",
        "    x = SpatialDropout2D(0.15)(x)\n",
        "    x = BatchNormalization(axis=-1)(x)\n",
        "\n",
        "    x = SeparableConv2D(256, (3, 3), padding=\"same\")(x)\n",
        "    x = Activation(\"relu\")(x)\n",
        "    x = MaxPooling2D(pool_size=(2, 2))(x)\n",
        "    x = SpatialDropout2D(0.15)(x)\n",
        "    x = BatchNormalization(axis=-1)(x)\n",
        "\n",
        "    return x\n",
        "\n",
        "def build_gender_branch(inputs):\n",
        "  \n",
        "    x = make_default_hidden_layers(inputs)\n",
        "\n",
        "    x = Flatten()(x)\n",
        "    x = Dense(64)(x)\n",
        "    x = Activation(\"relu\")(x)\n",
        "    x = Dropout(0.3)(x)\n",
        "    x = BatchNormalization()(x)\n",
        "\n",
        "    x = Dense(32)(x)\n",
        "    x = Activation(\"relu\")(x)\n",
        "    x = Dropout(0.25)(x)\n",
        "    x = BatchNormalization()(x)\n",
        "  \n",
        "    x = Dense(2)(x)\n",
        "    x = Activation(\"softmax\", name=\"gender_output\")(x)\n",
        "\n",
        "    return x\n",
        "\n",
        "def build_age_branch(inputs):   \n",
        "\n",
        "    x = make_default_hidden_layers(inputs)\n",
        "    \n",
        "    x = Flatten()(x)\n",
        "    x = Dense(128, kernel_regularizer=l2(0.03))(x)\n",
        "    x = Activation(\"relu\")(x)\n",
        "    x = Dropout(0.3)(x)\n",
        "    x = BatchNormalization()(x)\n",
        "\n",
        "    x = Dense(64)(x)\n",
        "    x = Activation(\"relu\")(x)\n",
        "    x = Dropout(0.3)(x)\n",
        "    x = BatchNormalization()(x)\n",
        "    \n",
        "    x = Dense(32)(x)\n",
        "    x = Activation(\"relu\")(x)\n",
        "    x = Dropout(0.2)(x)\n",
        "    x = BatchNormalization()(x)\n",
        "\n",
        "    x = Dense(5)(x)\n",
        "    x = Activation(\"softmax\", name=\"age_output\")(x)  \n",
        "\n",
        "    return x\n",
        "\n",
        "\n",
        "def assemble_model(width, height):\n",
        "  \n",
        "    input_shape = (height, width, 3)\n",
        "    inputs = Input(shape=input_shape)\n",
        "\n",
        "    age_branch = build_age_branch(inputs)\n",
        "    gender_branch = build_gender_branch(inputs)\n",
        "\n",
        "    model = Model(inputs=inputs, outputs = [age_branch, gender_branch], name=\"face_net\")\n",
        "\n",
        "    return model\n",
        "    \n",
        "model = assemble_model(198, 198)"
      ],
      "execution_count": null,
      "outputs": []
    },
    {
      "cell_type": "markdown",
      "metadata": {
        "id": "mRq7S0N8hQmP"
      },
      "source": [
        "Convolutional neural networks work on 2 assumptions -\n",
        "\n",
        "1. Low level features are local\n",
        "2. What's useful in one place will also be useful in other places.\n",
        "\n",
        "Kernel size should be determined by how strongly we believe in those assumptions for the problem at hand. In general, smaller filters are considered better than larger filter sizes. Also, usually -\n",
        "\n",
        "* Number of filters tend to increase with depth of model (more representational capacity is required in the model)\n",
        "\n",
        "* Size of filters is almost always odd. Like 3x3, 5x5\n",
        "* Filter size tends to decrease with depth of the model (initial layers have larger receptive fields)."
      ]
    },
    {
      "cell_type": "code",
      "metadata": {
        "id": "PtFNWMK011mL",
        "colab": {
          "base_uri": "https://localhost:8080/"
        },
        "outputId": "add16be6-c087-4817-ea15-12df7dddacd7"
      },
      "source": [
        "model.summary()"
      ],
      "execution_count": null,
      "outputs": [
        {
          "output_type": "stream",
          "name": "stdout",
          "text": [
            "Model: \"face_net\"\n",
            "__________________________________________________________________________________________________\n",
            " Layer (type)                   Output Shape         Param #     Connected to                     \n",
            "==================================================================================================\n",
            " input_1 (InputLayer)           [(None, 198, 198, 3  0           []                               \n",
            "                                )]                                                                \n",
            "                                                                                                  \n",
            " separable_conv2d (SeparableCon  (None, 198, 198, 32  155        ['input_1[0][0]']                \n",
            " v2D)                           )                                                                 \n",
            "                                                                                                  \n",
            " activation (Activation)        (None, 198, 198, 32  0           ['separable_conv2d[0][0]']       \n",
            "                                )                                                                 \n",
            "                                                                                                  \n",
            " max_pooling2d (MaxPooling2D)   (None, 66, 66, 32)   0           ['activation[0][0]']             \n",
            "                                                                                                  \n",
            " batch_normalization (BatchNorm  (None, 66, 66, 32)  128         ['max_pooling2d[0][0]']          \n",
            " alization)                                                                                       \n",
            "                                                                                                  \n",
            " separable_conv2d_1 (SeparableC  (None, 66, 66, 64)  2400        ['batch_normalization[0][0]']    \n",
            " onv2D)                                                                                           \n",
            "                                                                                                  \n",
            " separable_conv2d_7 (SeparableC  (None, 198, 198, 32  155        ['input_1[0][0]']                \n",
            " onv2D)                         )                                                                 \n",
            "                                                                                                  \n",
            " activation_1 (Activation)      (None, 66, 66, 64)   0           ['separable_conv2d_1[0][0]']     \n",
            "                                                                                                  \n",
            " activation_10 (Activation)     (None, 198, 198, 32  0           ['separable_conv2d_7[0][0]']     \n",
            "                                )                                                                 \n",
            "                                                                                                  \n",
            " max_pooling2d_1 (MaxPooling2D)  (None, 33, 33, 64)  0           ['activation_1[0][0]']           \n",
            "                                                                                                  \n",
            " max_pooling2d_7 (MaxPooling2D)  (None, 66, 66, 32)  0           ['activation_10[0][0]']          \n",
            "                                                                                                  \n",
            " batch_normalization_1 (BatchNo  (None, 33, 33, 64)  256         ['max_pooling2d_1[0][0]']        \n",
            " rmalization)                                                                                     \n",
            "                                                                                                  \n",
            " batch_normalization_10 (BatchN  (None, 66, 66, 32)  128         ['max_pooling2d_7[0][0]']        \n",
            " ormalization)                                                                                    \n",
            "                                                                                                  \n",
            " separable_conv2d_2 (SeparableC  (None, 33, 33, 128)  8896       ['batch_normalization_1[0][0]']  \n",
            " onv2D)                                                                                           \n",
            "                                                                                                  \n",
            " separable_conv2d_8 (SeparableC  (None, 66, 66, 64)  2400        ['batch_normalization_10[0][0]'] \n",
            " onv2D)                                                                                           \n",
            "                                                                                                  \n",
            " activation_2 (Activation)      (None, 33, 33, 128)  0           ['separable_conv2d_2[0][0]']     \n",
            "                                                                                                  \n",
            " activation_11 (Activation)     (None, 66, 66, 64)   0           ['separable_conv2d_8[0][0]']     \n",
            "                                                                                                  \n",
            " max_pooling2d_2 (MaxPooling2D)  (None, 16, 16, 128)  0          ['activation_2[0][0]']           \n",
            "                                                                                                  \n",
            " max_pooling2d_8 (MaxPooling2D)  (None, 33, 33, 64)  0           ['activation_11[0][0]']          \n",
            "                                                                                                  \n",
            " batch_normalization_2 (BatchNo  (None, 16, 16, 128)  512        ['max_pooling2d_2[0][0]']        \n",
            " rmalization)                                                                                     \n",
            "                                                                                                  \n",
            " batch_normalization_11 (BatchN  (None, 33, 33, 64)  256         ['max_pooling2d_8[0][0]']        \n",
            " ormalization)                                                                                    \n",
            "                                                                                                  \n",
            " separable_conv2d_3 (SeparableC  (None, 16, 16, 128)  17664      ['batch_normalization_2[0][0]']  \n",
            " onv2D)                                                                                           \n",
            "                                                                                                  \n",
            " separable_conv2d_9 (SeparableC  (None, 33, 33, 128)  8896       ['batch_normalization_11[0][0]'] \n",
            " onv2D)                                                                                           \n",
            "                                                                                                  \n",
            " activation_3 (Activation)      (None, 16, 16, 128)  0           ['separable_conv2d_3[0][0]']     \n",
            "                                                                                                  \n",
            " activation_12 (Activation)     (None, 33, 33, 128)  0           ['separable_conv2d_9[0][0]']     \n",
            "                                                                                                  \n",
            " max_pooling2d_3 (MaxPooling2D)  (None, 8, 8, 128)   0           ['activation_3[0][0]']           \n",
            "                                                                                                  \n",
            " max_pooling2d_9 (MaxPooling2D)  (None, 16, 16, 128)  0          ['activation_12[0][0]']          \n",
            "                                                                                                  \n",
            " spatial_dropout2d (SpatialDrop  (None, 8, 8, 128)   0           ['max_pooling2d_3[0][0]']        \n",
            " out2D)                                                                                           \n",
            "                                                                                                  \n",
            " batch_normalization_12 (BatchN  (None, 16, 16, 128)  512        ['max_pooling2d_9[0][0]']        \n",
            " ormalization)                                                                                    \n",
            "                                                                                                  \n",
            " batch_normalization_3 (BatchNo  (None, 8, 8, 128)   512         ['spatial_dropout2d[0][0]']      \n",
            " rmalization)                                                                                     \n",
            "                                                                                                  \n",
            " separable_conv2d_10 (Separable  (None, 16, 16, 128)  17664      ['batch_normalization_12[0][0]'] \n",
            " Conv2D)                                                                                          \n",
            "                                                                                                  \n",
            " separable_conv2d_4 (SeparableC  (None, 8, 8, 256)   34176       ['batch_normalization_3[0][0]']  \n",
            " onv2D)                                                                                           \n",
            "                                                                                                  \n",
            " activation_13 (Activation)     (None, 16, 16, 128)  0           ['separable_conv2d_10[0][0]']    \n",
            "                                                                                                  \n",
            " activation_4 (Activation)      (None, 8, 8, 256)    0           ['separable_conv2d_4[0][0]']     \n",
            "                                                                                                  \n",
            " max_pooling2d_10 (MaxPooling2D  (None, 8, 8, 128)   0           ['activation_13[0][0]']          \n",
            " )                                                                                                \n",
            "                                                                                                  \n",
            " max_pooling2d_4 (MaxPooling2D)  (None, 4, 4, 256)   0           ['activation_4[0][0]']           \n",
            "                                                                                                  \n",
            " spatial_dropout2d_4 (SpatialDr  (None, 8, 8, 128)   0           ['max_pooling2d_10[0][0]']       \n",
            " opout2D)                                                                                         \n",
            "                                                                                                  \n",
            " spatial_dropout2d_1 (SpatialDr  (None, 4, 4, 256)   0           ['max_pooling2d_4[0][0]']        \n",
            " opout2D)                                                                                         \n",
            "                                                                                                  \n",
            " batch_normalization_13 (BatchN  (None, 8, 8, 128)   512         ['spatial_dropout2d_4[0][0]']    \n",
            " ormalization)                                                                                    \n",
            "                                                                                                  \n",
            " batch_normalization_4 (BatchNo  (None, 4, 4, 256)   1024        ['spatial_dropout2d_1[0][0]']    \n",
            " rmalization)                                                                                     \n",
            "                                                                                                  \n",
            " separable_conv2d_11 (Separable  (None, 8, 8, 256)   34176       ['batch_normalization_13[0][0]'] \n",
            " Conv2D)                                                                                          \n",
            "                                                                                                  \n",
            " separable_conv2d_5 (SeparableC  (None, 4, 4, 256)   68096       ['batch_normalization_4[0][0]']  \n",
            " onv2D)                                                                                           \n",
            "                                                                                                  \n",
            " activation_14 (Activation)     (None, 8, 8, 256)    0           ['separable_conv2d_11[0][0]']    \n",
            "                                                                                                  \n",
            " activation_5 (Activation)      (None, 4, 4, 256)    0           ['separable_conv2d_5[0][0]']     \n",
            "                                                                                                  \n",
            " max_pooling2d_11 (MaxPooling2D  (None, 4, 4, 256)   0           ['activation_14[0][0]']          \n",
            " )                                                                                                \n",
            "                                                                                                  \n",
            " max_pooling2d_5 (MaxPooling2D)  (None, 2, 2, 256)   0           ['activation_5[0][0]']           \n",
            "                                                                                                  \n",
            " spatial_dropout2d_5 (SpatialDr  (None, 4, 4, 256)   0           ['max_pooling2d_11[0][0]']       \n",
            " opout2D)                                                                                         \n",
            "                                                                                                  \n",
            " spatial_dropout2d_2 (SpatialDr  (None, 2, 2, 256)   0           ['max_pooling2d_5[0][0]']        \n",
            " opout2D)                                                                                         \n",
            "                                                                                                  \n",
            " batch_normalization_14 (BatchN  (None, 4, 4, 256)   1024        ['spatial_dropout2d_5[0][0]']    \n",
            " ormalization)                                                                                    \n",
            "                                                                                                  \n",
            " batch_normalization_5 (BatchNo  (None, 2, 2, 256)   1024        ['spatial_dropout2d_2[0][0]']    \n",
            " rmalization)                                                                                     \n",
            "                                                                                                  \n",
            " separable_conv2d_12 (Separable  (None, 4, 4, 256)   68096       ['batch_normalization_14[0][0]'] \n",
            " Conv2D)                                                                                          \n",
            "                                                                                                  \n",
            " separable_conv2d_6 (SeparableC  (None, 2, 2, 256)   68096       ['batch_normalization_5[0][0]']  \n",
            " onv2D)                                                                                           \n",
            "                                                                                                  \n",
            " activation_15 (Activation)     (None, 4, 4, 256)    0           ['separable_conv2d_12[0][0]']    \n",
            "                                                                                                  \n",
            " activation_6 (Activation)      (None, 2, 2, 256)    0           ['separable_conv2d_6[0][0]']     \n",
            "                                                                                                  \n",
            " max_pooling2d_12 (MaxPooling2D  (None, 2, 2, 256)   0           ['activation_15[0][0]']          \n",
            " )                                                                                                \n",
            "                                                                                                  \n",
            " max_pooling2d_6 (MaxPooling2D)  (None, 1, 1, 256)   0           ['activation_6[0][0]']           \n",
            "                                                                                                  \n",
            " spatial_dropout2d_6 (SpatialDr  (None, 2, 2, 256)   0           ['max_pooling2d_12[0][0]']       \n",
            " opout2D)                                                                                         \n",
            "                                                                                                  \n",
            " spatial_dropout2d_3 (SpatialDr  (None, 1, 1, 256)   0           ['max_pooling2d_6[0][0]']        \n",
            " opout2D)                                                                                         \n",
            "                                                                                                  \n",
            " batch_normalization_15 (BatchN  (None, 2, 2, 256)   1024        ['spatial_dropout2d_6[0][0]']    \n",
            " ormalization)                                                                                    \n",
            "                                                                                                  \n",
            " batch_normalization_6 (BatchNo  (None, 1, 1, 256)   1024        ['spatial_dropout2d_3[0][0]']    \n",
            " rmalization)                                                                                     \n",
            "                                                                                                  \n",
            " separable_conv2d_13 (Separable  (None, 2, 2, 256)   68096       ['batch_normalization_15[0][0]'] \n",
            " Conv2D)                                                                                          \n",
            "                                                                                                  \n",
            " flatten (Flatten)              (None, 256)          0           ['batch_normalization_6[0][0]']  \n",
            "                                                                                                  \n",
            " activation_16 (Activation)     (None, 2, 2, 256)    0           ['separable_conv2d_13[0][0]']    \n",
            "                                                                                                  \n",
            " dense (Dense)                  (None, 128)          32896       ['flatten[0][0]']                \n",
            "                                                                                                  \n",
            " max_pooling2d_13 (MaxPooling2D  (None, 1, 1, 256)   0           ['activation_16[0][0]']          \n",
            " )                                                                                                \n",
            "                                                                                                  \n",
            " activation_7 (Activation)      (None, 128)          0           ['dense[0][0]']                  \n",
            "                                                                                                  \n",
            " spatial_dropout2d_7 (SpatialDr  (None, 1, 1, 256)   0           ['max_pooling2d_13[0][0]']       \n",
            " opout2D)                                                                                         \n",
            "                                                                                                  \n",
            " dropout (Dropout)              (None, 128)          0           ['activation_7[0][0]']           \n",
            "                                                                                                  \n",
            " batch_normalization_16 (BatchN  (None, 1, 1, 256)   1024        ['spatial_dropout2d_7[0][0]']    \n",
            " ormalization)                                                                                    \n",
            "                                                                                                  \n",
            " batch_normalization_7 (BatchNo  (None, 128)         512         ['dropout[0][0]']                \n",
            " rmalization)                                                                                     \n",
            "                                                                                                  \n",
            " flatten_1 (Flatten)            (None, 256)          0           ['batch_normalization_16[0][0]'] \n",
            "                                                                                                  \n",
            " dense_1 (Dense)                (None, 64)           8256        ['batch_normalization_7[0][0]']  \n",
            "                                                                                                  \n",
            " dense_4 (Dense)                (None, 64)           16448       ['flatten_1[0][0]']              \n",
            "                                                                                                  \n",
            " activation_8 (Activation)      (None, 64)           0           ['dense_1[0][0]']                \n",
            "                                                                                                  \n",
            " activation_17 (Activation)     (None, 64)           0           ['dense_4[0][0]']                \n",
            "                                                                                                  \n",
            " dropout_1 (Dropout)            (None, 64)           0           ['activation_8[0][0]']           \n",
            "                                                                                                  \n",
            " dropout_3 (Dropout)            (None, 64)           0           ['activation_17[0][0]']          \n",
            "                                                                                                  \n",
            " batch_normalization_8 (BatchNo  (None, 64)          256         ['dropout_1[0][0]']              \n",
            " rmalization)                                                                                     \n",
            "                                                                                                  \n",
            " batch_normalization_17 (BatchN  (None, 64)          256         ['dropout_3[0][0]']              \n",
            " ormalization)                                                                                    \n",
            "                                                                                                  \n",
            " dense_2 (Dense)                (None, 32)           2080        ['batch_normalization_8[0][0]']  \n",
            "                                                                                                  \n",
            " dense_5 (Dense)                (None, 32)           2080        ['batch_normalization_17[0][0]'] \n",
            "                                                                                                  \n",
            " activation_9 (Activation)      (None, 32)           0           ['dense_2[0][0]']                \n",
            "                                                                                                  \n",
            " activation_18 (Activation)     (None, 32)           0           ['dense_5[0][0]']                \n",
            "                                                                                                  \n",
            " dropout_2 (Dropout)            (None, 32)           0           ['activation_9[0][0]']           \n",
            "                                                                                                  \n",
            " dropout_4 (Dropout)            (None, 32)           0           ['activation_18[0][0]']          \n",
            "                                                                                                  \n",
            " batch_normalization_9 (BatchNo  (None, 32)          128         ['dropout_2[0][0]']              \n",
            " rmalization)                                                                                     \n",
            "                                                                                                  \n",
            " batch_normalization_18 (BatchN  (None, 32)          128         ['dropout_4[0][0]']              \n",
            " ormalization)                                                                                    \n",
            "                                                                                                  \n",
            " dense_3 (Dense)                (None, 5)            165         ['batch_normalization_9[0][0]']  \n",
            "                                                                                                  \n",
            " dense_6 (Dense)                (None, 2)            66          ['batch_normalization_18[0][0]'] \n",
            "                                                                                                  \n",
            " age_output (Activation)        (None, 5)            0           ['dense_3[0][0]']                \n",
            "                                                                                                  \n",
            " gender_output (Activation)     (None, 2)            0           ['dense_6[0][0]']                \n",
            "                                                                                                  \n",
            "==================================================================================================\n",
            "Total params: 471,197\n",
            "Trainable params: 466,077\n",
            "Non-trainable params: 5,120\n",
            "__________________________________________________________________________________________________\n"
          ]
        }
      ]
    },
    {
      "cell_type": "code",
      "metadata": {
        "id": "OIQZyf8eE7Mi",
        "colab": {
          "base_uri": "https://localhost:8080/"
        },
        "outputId": "463abd68-2ffc-4d08-8b57-f1e7e79c31be"
      },
      "source": [
        "# A callback is a set of functions to be applied at given stages of the training procedure.\n",
        "\n",
        "import math\n",
        "\n",
        "from tensorflow.keras.optimizers import Adam\n",
        "from keras.callbacks import ModelCheckpoint\n",
        "from keras.callbacks import LearningRateScheduler\n",
        "\n",
        "#  When training a neural network, the learning rate is often the most important \n",
        "# hyperparameter to tune. When training deep neural networks, it is often useful \n",
        "# to reduce learning rate as the training progresses.\n",
        "\n",
        "# LRS in Keras reduces the learning rate by a certain factor after certain no of epochs\n",
        "\n",
        "def step_decay(epoch):\n",
        "\tinitial_lrate = 0.008\n",
        "\tdrop = 0.5\n",
        "\tepochs_drop = 5.0\n",
        "\tlrate = initial_lrate * math.pow(drop, math.floor((1+epoch)/epochs_drop))\n",
        "\treturn lrate      \n",
        "\n",
        "opt = Adam(lr=0.0)                                     # 0.0 here signifies this is not to be used\n",
        "lrate = LearningRateScheduler(step_decay)\n",
        "\n",
        "model.compile(optimizer=opt, \n",
        "              loss={\n",
        "                  'age_output': 'categorical_crossentropy', \n",
        "                  'gender_output': 'categorical_crossentropy'},\n",
        "              metrics={\n",
        "                  'age_output': 'accuracy', \n",
        "                  'gender_output': 'accuracy'})\n",
        "\n",
        "callbacks_list = [lrate]\n",
        "\n",
        "# It is this callback that allows a function to invoke during program execution."
      ],
      "execution_count": null,
      "outputs": [
        {
          "output_type": "stream",
          "name": "stderr",
          "text": [
            "/usr/local/lib/python3.7/dist-packages/keras/optimizer_v2/adam.py:105: UserWarning: The `lr` argument is deprecated, use `learning_rate` instead.\n",
            "  super(Adam, self).__init__(name, **kwargs)\n"
          ]
        }
      ]
    },
    {
      "cell_type": "markdown",
      "metadata": {
        "id": "yngXGr-2krQA"
      },
      "source": [
        " Keras does not touch class imbalance issues on its own.  If you aren't going to handle imbalance from the data directly, you should introduce an additional parameter in your loss function that understands the class distribution. In Keras, the param is called `class_weight`\n",
        "\n",
        "Class weights, ensure that the unevenness in data distribution is sorted out.\n",
        "Basically, **classes with less numbers are given more weight**, so that model doesn't get biased towards the more prevalent classes."
      ]
    },
    {
      "cell_type": "code",
      "metadata": {
        "id": "TYUF1n3nyfj7"
      },
      "source": [
        "from sklearn.utils import class_weight\n",
        "class_weight = class_weight.compute_class_weight('balanced' ,classes=np.array([0,1,2,3,4]) ,y=np.array(df['age']))\n",
        "\n",
        "\n",
        "class_weight1 = {'age_output': class_weight}"
      ],
      "execution_count": null,
      "outputs": []
    },
    {
      "cell_type": "markdown",
      "metadata": {
        "id": "VYQNqWpwdOPG"
      },
      "source": [
        "### Some key points to remember\n",
        "\n",
        "\n",
        "*   **ModelCheckpoint** - ModelCheckpoint callback is used in conjunction with training using model.fit() to save a model or weights (in a checkpoint file) at some interval, so the model or weights can be loaded later to continue the training from the state saved. This is very essential as DL models can take upto days to train. By default - it's NULL.\n",
        "\n",
        "    By keeping the filename constant throughout training, we ensure that only the best model weights remain in the file uptill the point we have trained.   \n",
        "To load weights - `model.load_weights(filepath)`\n",
        "\n",
        "---\n",
        "\n",
        "\n",
        "\n",
        "*  **Fit function** -  In the latest version of TF - 2.2.0v (released May 2020), the *fit* function has replaced the *fit_generator* function present before.\n",
        "\n",
        "---\n",
        "\n",
        "\n",
        "*  **Validation while training** - All the VALIDATION things, in the *fit* function are related to data on which to evaluate the loss and any model metrics at the end of each epoch. The model will not be trained on this data \n",
        "\n",
        "---\n",
        "\n",
        "*   **Loss functions** ( `binary_crossentropy` vs `categorical_crossentropy`) -\n",
        "\n",
        "  -- For `binary_crossentropy`, sigmoid activation, scalar target\n",
        "\n",
        "  -- For `categorical_crossentropy`, softmax activation, one-hot encoded target\n",
        "\n",
        "---\n",
        "\n",
        "*  **LearningRateSchedular Callback** - The LearningRateScheduler callback allows us to define a function to call that takes the epoch number as an argument and returns the learning rate to use in optimizer. When used, the learning rate specified by optimizer is ignored.\n",
        "\n",
        "\n",
        "\n",
        "\n",
        "\n",
        "\n",
        "\n"
      ]
    },
    {
      "cell_type": "code",
      "metadata": {
        "id": "xQLyl11vYw1r",
        "colab": {
          "base_uri": "https://localhost:8080/"
        },
        "outputId": "8529bae1-8e23-487d-d1e6-d584d14cc414"
      },
      "source": [
        "train_gen = generate_images(train_idx, is_training=True, batch_size=32)\n",
        "\n",
        "# Since, train_idx is too large to fit inside RAM at once, we generate batches of size 32/64 from it (called train_gen))\n",
        "\n",
        "valid_gen = generate_images(val_idx, is_training=True, batch_size=32)\n",
        "\n",
        "\n",
        "history = model.fit(train_gen, steps_per_epoch = len(train_idx)//32, epochs=22  , callbacks=callbacks_list,\n",
        "                     validation_data=valid_gen, validation_steps=len(val_idx)//32)\n",
        "\n"
      ],
      "execution_count": null,
      "outputs": [
        {
          "output_type": "stream",
          "name": "stdout",
          "text": [
            "Epoch 1/22\n",
            " 17/215 [=>............................] - ETA: 1:18:07 - loss: 6.7629 - age_output_loss: 1.7707 - gender_output_loss: 0.9080 - age_output_accuracy: 0.2592 - gender_output_accuracy: 0.5129"
          ]
        }
      ]
    },
    {
      "cell_type": "markdown",
      "metadata": {
        "id": "qq3MtSrR7DQH"
      },
      "source": [
        "\n",
        "\n",
        "---\n",
        "\n",
        "\n",
        "Clearly, the performance of the model is saturating. I found the reason to be the diminutive learning rate after 45 epochs which becomes 0.0005, that is too low for the model to learn anything. *When the learning rate is too small, training is not only slower, but may become permanently stuck with a high training error.* This is precisely what seems to have happened above.\n",
        "\n",
        "Hence, we train the model, by **re-establishing the learning rate** to a lower value than initialized before (as model would be now at the trough , looking for the minimum using Adam optimizer). I decided it to be 0.002 and again keep a drop every 12 epochs. Initializing the learning rate higher than 0.002, results in very volatile and fluctuating results, as the model keeps on oscillating about that minimum. "
      ]
    },
    {
      "cell_type": "code",
      "metadata": {
        "id": "soCfKO0kBtHZ",
        "colab": {
          "base_uri": "https://localhost:8080/"
        },
        "outputId": "7ddc077a-38e9-4daa-c0e4-e3959699ad14"
      },
      "source": [
        "import math\n",
        "from tensorflow.keras.optimizers import Adam\n",
        "from keras.callbacks import ModelCheckpoint\n",
        "from keras.callbacks import LearningRateScheduler\n",
        "\n",
        "def step_decay(epoch):\n",
        "\tinitial_lrate = 0.002\n",
        "\tdrop = 0.5\n",
        "\tepochs_drop = 7.0\n",
        "\tlrate = initial_lrate * math.pow(drop, math.floor((1+epoch)/epochs_drop))\n",
        "\treturn lrate      \n",
        "\n",
        "opt = Adam(lr=0.0)\n",
        "lrate = LearningRateScheduler(step_decay)\n",
        "\n",
        "train_gen = generate_images(train_idx, is_training=True, batch_size=32)\n",
        "valid_gen = generate_images(val_idx, is_training=True, batch_size=32)\n",
        "callbacks_list = [lrate]\n",
        "\n",
        "history = model.fit(train_gen, steps_per_epoch = len(train_idx)//32, epochs=22  , callbacks=callbacks_list,\n",
        "                     validation_data=valid_gen, validation_steps=len(val_idx)//32)\n",
        "\n"
      ],
      "execution_count": null,
      "outputs": [
        {
          "output_type": "stream",
          "name": "stdout",
          "text": [
            "Epoch 1/22\n"
          ]
        },
        {
          "output_type": "stream",
          "name": "stderr",
          "text": [
            "/usr/local/lib/python3.7/dist-packages/keras/optimizer_v2/adam.py:105: UserWarning: The `lr` argument is deprecated, use `learning_rate` instead.\n",
            "  super(Adam, self).__init__(name, **kwargs)\n"
          ]
        },
        {
          "output_type": "stream",
          "name": "stdout",
          "text": [
            "215/215 [==============================] - 45s 210ms/step - loss: 0.8025 - age_output_loss: 0.5389 - gender_output_loss: 0.1896 - age_output_accuracy: 0.7842 - gender_output_accuracy: 0.9311 - val_loss: 0.6395 - val_age_output_loss: 0.4282 - val_gender_output_loss: 0.1541 - val_age_output_accuracy: 0.8325 - val_gender_output_accuracy: 0.9416 - lr: 0.0020\n",
            "Epoch 2/22\n",
            "215/215 [==============================] - 43s 198ms/step - loss: 0.6731 - age_output_loss: 0.4622 - gender_output_loss: 0.1486 - age_output_accuracy: 0.8199 - gender_output_accuracy: 0.9417 - val_loss: 0.6859 - val_age_output_loss: 0.4788 - val_gender_output_loss: 0.1341 - val_age_output_accuracy: 0.8066 - val_gender_output_accuracy: 0.9534 - lr: 0.0020\n",
            "Epoch 3/22\n",
            "215/215 [==============================] - 43s 198ms/step - loss: 0.6537 - age_output_loss: 0.4513 - gender_output_loss: 0.1248 - age_output_accuracy: 0.8227 - gender_output_accuracy: 0.9532 - val_loss: 0.7830 - val_age_output_loss: 0.5834 - val_gender_output_loss: 0.1370 - val_age_output_accuracy: 0.7447 - val_gender_output_accuracy: 0.9499 - lr: 0.0020\n",
            "Epoch 4/22\n",
            "215/215 [==============================] - 43s 199ms/step - loss: 0.6275 - age_output_loss: 0.4280 - gender_output_loss: 0.1268 - age_output_accuracy: 0.8339 - gender_output_accuracy: 0.9526 - val_loss: 0.7587 - val_age_output_loss: 0.5392 - val_gender_output_loss: 0.1579 - val_age_output_accuracy: 0.7807 - val_gender_output_accuracy: 0.9446 - lr: 0.0020\n",
            "Epoch 5/22\n",
            "215/215 [==============================] - 43s 199ms/step - loss: 0.6031 - age_output_loss: 0.4172 - gender_output_loss: 0.1092 - age_output_accuracy: 0.8417 - gender_output_accuracy: 0.9610 - val_loss: 0.7801 - val_age_output_loss: 0.5387 - val_gender_output_loss: 0.1723 - val_age_output_accuracy: 0.7812 - val_gender_output_accuracy: 0.9434 - lr: 0.0020\n",
            "Epoch 6/22\n",
            "215/215 [==============================] - 43s 200ms/step - loss: 0.5661 - age_output_loss: 0.3940 - gender_output_loss: 0.1005 - age_output_accuracy: 0.8485 - gender_output_accuracy: 0.9626 - val_loss: 0.8340 - val_age_output_loss: 0.5423 - val_gender_output_loss: 0.2081 - val_age_output_accuracy: 0.7866 - val_gender_output_accuracy: 0.9263 - lr: 0.0020\n",
            "Epoch 7/22\n",
            "215/215 [==============================] - 43s 199ms/step - loss: 0.4447 - age_output_loss: 0.3266 - gender_output_loss: 0.0679 - age_output_accuracy: 0.8775 - gender_output_accuracy: 0.9767 - val_loss: 0.7461 - val_age_output_loss: 0.5358 - val_gender_output_loss: 0.1701 - val_age_output_accuracy: 0.8019 - val_gender_output_accuracy: 0.9499 - lr: 0.0010\n",
            "Epoch 8/22\n",
            "215/215 [==============================] - 43s 201ms/step - loss: 0.3858 - age_output_loss: 0.2818 - gender_output_loss: 0.0604 - age_output_accuracy: 0.9028 - gender_output_accuracy: 0.9794 - val_loss: 0.7777 - val_age_output_loss: 0.5233 - val_gender_output_loss: 0.2137 - val_age_output_accuracy: 0.8048 - val_gender_output_accuracy: 0.9393 - lr: 0.0010\n",
            "Epoch 9/22\n",
            "215/215 [==============================] - 43s 202ms/step - loss: 0.3493 - age_output_loss: 0.2583 - gender_output_loss: 0.0504 - age_output_accuracy: 0.9094 - gender_output_accuracy: 0.9818 - val_loss: 0.8633 - val_age_output_loss: 0.5923 - val_gender_output_loss: 0.2291 - val_age_output_accuracy: 0.7983 - val_gender_output_accuracy: 0.9381 - lr: 0.0010\n",
            "Epoch 10/22\n",
            "215/215 [==============================] - 43s 201ms/step - loss: 0.3543 - age_output_loss: 0.2579 - gender_output_loss: 0.0488 - age_output_accuracy: 0.9078 - gender_output_accuracy: 0.9839 - val_loss: 0.8115 - val_age_output_loss: 0.5677 - val_gender_output_loss: 0.1899 - val_age_output_accuracy: 0.7978 - val_gender_output_accuracy: 0.9458 - lr: 0.0010\n",
            "Epoch 11/22\n",
            "215/215 [==============================] - 43s 202ms/step - loss: 0.3263 - age_output_loss: 0.2351 - gender_output_loss: 0.0456 - age_output_accuracy: 0.9183 - gender_output_accuracy: 0.9833 - val_loss: 0.9050 - val_age_output_loss: 0.6362 - val_gender_output_loss: 0.2221 - val_age_output_accuracy: 0.7842 - val_gender_output_accuracy: 0.9493 - lr: 0.0010\n",
            "Epoch 12/22\n",
            "215/215 [==============================] - 43s 200ms/step - loss: 0.3177 - age_output_loss: 0.2233 - gender_output_loss: 0.0466 - age_output_accuracy: 0.9233 - gender_output_accuracy: 0.9837 - val_loss: 0.8715 - val_age_output_loss: 0.6332 - val_gender_output_loss: 0.1943 - val_age_output_accuracy: 0.7883 - val_gender_output_accuracy: 0.9487 - lr: 0.0010\n",
            "Epoch 13/22\n",
            "215/215 [==============================] - 43s 201ms/step - loss: 0.3000 - age_output_loss: 0.2178 - gender_output_loss: 0.0359 - age_output_accuracy: 0.9297 - gender_output_accuracy: 0.9884 - val_loss: 0.9343 - val_age_output_loss: 0.6637 - val_gender_output_loss: 0.2131 - val_age_output_accuracy: 0.7913 - val_gender_output_accuracy: 0.9452 - lr: 0.0010\n",
            "Epoch 14/22\n",
            "215/215 [==============================] - 43s 200ms/step - loss: 0.2401 - age_output_loss: 0.1799 - gender_output_loss: 0.0224 - age_output_accuracy: 0.9375 - gender_output_accuracy: 0.9924 - val_loss: 0.9042 - val_age_output_loss: 0.6403 - val_gender_output_loss: 0.2340 - val_age_output_accuracy: 0.7930 - val_gender_output_accuracy: 0.9487 - lr: 5.0000e-04\n",
            "Epoch 15/22\n",
            "215/215 [==============================] - 43s 200ms/step - loss: 0.2072 - age_output_loss: 0.1576 - gender_output_loss: 0.0220 - age_output_accuracy: 0.9496 - gender_output_accuracy: 0.9929 - val_loss: 0.9295 - val_age_output_loss: 0.6766 - val_gender_output_loss: 0.2251 - val_age_output_accuracy: 0.7983 - val_gender_output_accuracy: 0.9475 - lr: 5.0000e-04\n",
            "Epoch 16/22\n",
            "215/215 [==============================] - 43s 199ms/step - loss: 0.1926 - age_output_loss: 0.1460 - gender_output_loss: 0.0204 - age_output_accuracy: 0.9539 - gender_output_accuracy: 0.9933 - val_loss: 0.9842 - val_age_output_loss: 0.7146 - val_gender_output_loss: 0.2423 - val_age_output_accuracy: 0.8060 - val_gender_output_accuracy: 0.9469 - lr: 5.0000e-04\n",
            "Epoch 17/22\n",
            "215/215 [==============================] - 43s 201ms/step - loss: 0.1722 - age_output_loss: 0.1281 - gender_output_loss: 0.0169 - age_output_accuracy: 0.9599 - gender_output_accuracy: 0.9943 - val_loss: 1.0220 - val_age_output_loss: 0.7577 - val_gender_output_loss: 0.2384 - val_age_output_accuracy: 0.7942 - val_gender_output_accuracy: 0.9475 - lr: 5.0000e-04\n",
            "Epoch 18/22\n",
            "215/215 [==============================] - 43s 200ms/step - loss: 0.1936 - age_output_loss: 0.1438 - gender_output_loss: 0.0237 - age_output_accuracy: 0.9555 - gender_output_accuracy: 0.9919 - val_loss: 0.9426 - val_age_output_loss: 0.6954 - val_gender_output_loss: 0.2212 - val_age_output_accuracy: 0.8031 - val_gender_output_accuracy: 0.9505 - lr: 5.0000e-04\n",
            "Epoch 19/22\n",
            "215/215 [==============================] - 43s 200ms/step - loss: 0.1642 - age_output_loss: 0.1238 - gender_output_loss: 0.0146 - age_output_accuracy: 0.9635 - gender_output_accuracy: 0.9945 - val_loss: 1.0102 - val_age_output_loss: 0.7524 - val_gender_output_loss: 0.2313 - val_age_output_accuracy: 0.8037 - val_gender_output_accuracy: 0.9493 - lr: 5.0000e-04\n",
            "Epoch 20/22\n",
            "215/215 [==============================] - 43s 202ms/step - loss: 0.1604 - age_output_loss: 0.1169 - gender_output_loss: 0.0167 - age_output_accuracy: 0.9658 - gender_output_accuracy: 0.9940 - val_loss: 1.0383 - val_age_output_loss: 0.7654 - val_gender_output_loss: 0.2450 - val_age_output_accuracy: 0.8007 - val_gender_output_accuracy: 0.9416 - lr: 5.0000e-04\n",
            "Epoch 21/22\n",
            "215/215 [==============================] - 43s 200ms/step - loss: 0.1534 - age_output_loss: 0.1124 - gender_output_loss: 0.0168 - age_output_accuracy: 0.9638 - gender_output_accuracy: 0.9958 - val_loss: 0.9910 - val_age_output_loss: 0.7232 - val_gender_output_loss: 0.2466 - val_age_output_accuracy: 0.8054 - val_gender_output_accuracy: 0.9410 - lr: 2.5000e-04\n",
            "Epoch 22/22\n",
            "215/215 [==============================] - 43s 199ms/step - loss: 0.1258 - age_output_loss: 0.0918 - gender_output_loss: 0.0146 - age_output_accuracy: 0.9728 - gender_output_accuracy: 0.9959 - val_loss: 1.0044 - val_age_output_loss: 0.7658 - val_gender_output_loss: 0.2217 - val_age_output_accuracy: 0.8096 - val_gender_output_accuracy: 0.9528 - lr: 2.5000e-04\n"
          ]
        }
      ]
    },
    {
      "cell_type": "markdown",
      "metadata": {
        "id": "udSH6GhxH3RR"
      },
      "source": [
        "We see that the model has started overfitting. Validation loss for both age and gender is increasing, which a clear sign of overfitting. Hence, stop the training, else the model might lose its generalization ability.\n",
        "\n",
        "I tried training further, and the accuracy was not able to increase. Hence, I conclude that the model has achieved saturation."
      ]
    },
    {
      "cell_type": "code",
      "metadata": {
        "id": "k3DyQlH4YJqO",
        "colab": {
          "base_uri": "https://localhost:8080/"
        },
        "outputId": "54d40bae-6809-4483-c098-f92570056180"
      },
      "source": [
        "model.save('/content/drive/My Drive/Colab Notebooks/a_g_best')         # Saving the above run model. It has performed best till date.\n",
        "\n",
        "model.save(f'/content/drive/My Drive/Colab Notebooks/a_g_best.h5')  # Converting to .h5 file for deployment\n"
      ],
      "execution_count": null,
      "outputs": [
        {
          "output_type": "stream",
          "name": "stdout",
          "text": [
            "INFO:tensorflow:Assets written to: /content/drive/My Drive/Colab Notebooks/a_g_best/assets\n"
          ]
        }
      ]
    },
    {
      "cell_type": "code",
      "metadata": {
        "id": "EOTG4hlEVtd5"
      },
      "source": [
        "from keras.models import load_model\n",
        "new_model = load_model('/content/drive/My Drive/Colab Notebooks/a_g_best')"
      ],
      "execution_count": null,
      "outputs": []
    },
    {
      "cell_type": "markdown",
      "metadata": {
        "id": "aVU7moSwZhZm"
      },
      "source": [
        "### The short answer to saving and loading - \n",
        "\n",
        "#### **Saving a Keras Model** -\n",
        "`model = ...  # Get model (Sequential, Functional Model, or Model subclass)`\n",
        "\n",
        "`model.save('path/to/location')`\n",
        "\n",
        "This `save` function saves -\n",
        "\n",
        "\n",
        "1.   The architecture of the model, allowing to re-create the model.\n",
        "2.   The weights of the model.\n",
        "3.   The training configuration (loss, optimizer).\n",
        "4.   The state of the optimizer, allowing to resume training exactly where you left off.\n",
        "\n",
        "Calling `save('my_model')` creates a SavedModel folder `my_model`, containing the following - `assets` , `saved_model.pb` &  `variables`. The model architecture, and training configuration (including the optimizer, losses, and metrics) are stored in `saved_model.pb`. The weights are saved in the `variables/` directory.\n",
        "\n",
        "#### **Loading the model back** - \n",
        "`model = keras.models.load_model('path/to/location')`\n",
        "\n",
        "\n"
      ]
    },
    {
      "cell_type": "code",
      "metadata": {
        "id": "A9Nuu0480Mpw",
        "colab": {
          "base_uri": "https://localhost:8080/",
          "height": 307
        },
        "outputId": "385494c6-8d24-46e4-b0ae-451a30de3836"
      },
      "source": [
        "from keras.preprocessing import image\n",
        "from keras.preprocessing.image import ImageDataGenerator\n",
        " \n",
        "def loadImage(filepath):\n",
        "  test_img = image.load_img(filepath, target_size=(198, 198))\n",
        "  test_img = image.img_to_array(test_img)\n",
        "  test_img = np.expand_dims(test_img, axis = 0)\n",
        "  test_img /= 255\n",
        "  return test_img\n",
        "\n",
        "picture = \"/content/drive/MyDrive/Age_Geneder_UTKDataSet/UTKFace/100_1_0_20170112215032192.jpg.chip.jpg\"                                     \n",
        "age_pred, gender_pred = new_model.predict(loadImage(picture))\n",
        "img = image.load_img(picture)                        \n",
        "plt.imshow(img)\n",
        "plt.show()\n",
        "max=-1\n",
        "count=0\n",
        "\n",
        "for i in age_pred[0]:\n",
        "  if i>max:\n",
        "    max = i\n",
        "    temp = count\n",
        "  count+=1\n",
        "\n",
        "if temp==0:\n",
        "  print('0-24 yrs old')\n",
        "if temp==1:\n",
        "  print('25-49 yrs old')\n",
        "if temp==2:\n",
        "  print('50-74 yrs old')\n",
        "if temp==3:\n",
        "  print('75-99 yrs old')\n",
        "if temp==4:\n",
        "  print('91-124 yrs old')\n",
        "\n",
        "if gender_pred[0][0]>gender_pred[0][1]:\n",
        "  print('Male')\n",
        "else:\n",
        "  print('Female')\n"
      ],
      "execution_count": null,
      "outputs": [
        {
          "output_type": "display_data",
          "data": {
            "text/plain": [
              "<Figure size 432x288 with 1 Axes>"
            ],
            "image/png": "[encoded data removed]"
          },
          "metadata": {}
        },
        {
          "output_type": "stream",
          "name": "stdout",
          "text": [
            "75-99 yrs old\n",
            "Female\n"
          ]
        }
      ]
    }
  ]
}